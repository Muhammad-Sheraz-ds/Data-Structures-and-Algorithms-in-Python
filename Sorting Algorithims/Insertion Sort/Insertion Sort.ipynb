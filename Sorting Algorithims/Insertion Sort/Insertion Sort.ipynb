{
 "cells": [
  {
   "cell_type": "code",
   "execution_count": 1,
   "id": "38840c0e",
   "metadata": {},
   "outputs": [],
   "source": [
    "def insertion_sort(arr):\n",
    "    for i in range(1, len(arr)):\n",
    "        val = arr[i]\n",
    "        j = i - 1\n",
    "        while j >= 0 and val < arr[j]:\n",
    "            arr[j + 1] = arr[j]\n",
    "            j -= 1\n",
    "        arr[j + 1] = val\n",
    "\n",
    "    return arr\n"
   ]
  },
  {
   "cell_type": "code",
   "execution_count": null,
   "id": "fd44e270",
   "metadata": {},
   "outputs": [],
   "source": []
  },
  {
   "cell_type": "code",
   "execution_count": 6,
   "id": "3c905b97",
   "metadata": {},
   "outputs": [
    {
     "name": "stdout",
     "output_type": "stream",
     "text": [
      "Original array: [60, 98, 17, 26, 68, 17, 49, 98, 85, 83, 7, 22, 87, 53, 9, 23, 47, 40, 33, 26]\n",
      "Sorted array: [7, 9, 17, 17, 22, 23, 26, 26, 33, 40, 47, 49, 53, 60, 68, 83, 85, 87, 98, 98]\n"
     ]
    }
   ],
   "source": [
    "import random as r\n",
    "def main():\n",
    "    arr = [r.randint(0,100) for i in range(20)]\n",
    "    print(\"Original array:\", arr)\n",
    "\n",
    "    sorted_arr = insertion_sort(arr)\n",
    "    print(\"Sorted array:\", sorted_arr)\n",
    "\n",
    "if __name__ == \"__main__\":\n",
    "    main()\n"
   ]
  },
  {
   "cell_type": "code",
   "execution_count": null,
   "id": "e72526f9",
   "metadata": {},
   "outputs": [],
   "source": []
  }
 ],
 "metadata": {
  "kernelspec": {
   "display_name": "Python 3 (ipykernel)",
   "language": "python",
   "name": "python3"
  },
  "language_info": {
   "codemirror_mode": {
    "name": "ipython",
    "version": 3
   },
   "file_extension": ".py",
   "mimetype": "text/x-python",
   "name": "python",
   "nbconvert_exporter": "python",
   "pygments_lexer": "ipython3",
   "version": "3.10.9"
  }
 },
 "nbformat": 4,
 "nbformat_minor": 5
}
