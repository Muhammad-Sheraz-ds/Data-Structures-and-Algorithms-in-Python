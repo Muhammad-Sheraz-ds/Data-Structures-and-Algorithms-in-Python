{
 "cells": [
  {
   "cell_type": "code",
   "execution_count": 2,
   "id": "30cd3390",
   "metadata": {},
   "outputs": [],
   "source": [
    "def merge(arr, low, mid, high):\n",
    "    left = arr[low:mid + 1]\n",
    "    i = low\n",
    "    j = mid + 1\n",
    "    k = low\n",
    "\n",
    "    while i <= mid and j <= high:\n",
    "        if left[i - low] <= arr[j]:\n",
    "            arr[k] = left[i - low]\n",
    "            i += 1\n",
    "        else:\n",
    "            arr[k] = arr[j]\n",
    "            j += 1\n",
    "        k += 1\n",
    "\n",
    "    while i <= mid:\n",
    "        arr[k] = left[i - low]\n",
    "        i += 1\n",
    "        k += 1\n",
    "\n",
    "def merge_sort(arr, low, high):\n",
    "    if low < high:\n",
    "        mid = (low + high) // 2\n",
    "\n",
    "        merge_sort(arr, low, mid)\n",
    "        merge_sort(arr, mid + 1, high)\n",
    "\n",
    "        merge(arr, low, mid, high)\n",
    "\n"
   ]
  },
  {
   "cell_type": "code",
   "execution_count": null,
   "id": "c5325fd0",
   "metadata": {},
   "outputs": [],
   "source": []
  },
  {
   "cell_type": "code",
   "execution_count": 3,
   "id": "40ce2aa6",
   "metadata": {},
   "outputs": [
    {
     "name": "stdout",
     "output_type": "stream",
     "text": [
      "Original array: [12, 11, 13, 5, 6, 7]\n",
      "Sorted array: [5, 6, 7, 11, 12, 13]\n"
     ]
    }
   ],
   "source": [
    "def main():\n",
    "    arr = [12, 11, 13, 5, 6, 7]\n",
    "    print(\"Original array:\", arr)\n",
    "\n",
    "    merge_sort(arr, 0, len(arr) - 1)\n",
    "    print(\"Sorted array:\", arr)\n",
    "\n",
    "if __name__ == \"__main__\":\n",
    "    main()\n"
   ]
  },
  {
   "cell_type": "code",
   "execution_count": null,
   "id": "2b54db8a",
   "metadata": {},
   "outputs": [],
   "source": []
  }
 ],
 "metadata": {
  "kernelspec": {
   "display_name": "Python 3 (ipykernel)",
   "language": "python",
   "name": "python3"
  },
  "language_info": {
   "codemirror_mode": {
    "name": "ipython",
    "version": 3
   },
   "file_extension": ".py",
   "mimetype": "text/x-python",
   "name": "python",
   "nbconvert_exporter": "python",
   "pygments_lexer": "ipython3",
   "version": "3.10.9"
  }
 },
 "nbformat": 4,
 "nbformat_minor": 5
}
