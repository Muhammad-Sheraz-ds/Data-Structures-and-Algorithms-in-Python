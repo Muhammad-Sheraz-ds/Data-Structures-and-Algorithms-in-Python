{
 "cells": [
  {
   "cell_type": "code",
   "execution_count": 1,
   "id": "b037ba7d",
   "metadata": {},
   "outputs": [],
   "source": [
    "class Stacks:\n",
    "    def __init__(self, size=100):\n",
    "        self.array = [0] * size\n",
    "        self.logical_size = 0\n",
    "        self.physical_size = size\n",
    "        \n",
    "    def push(self, value):\n",
    "        if self.is_full():\n",
    "            raise('FULL ARRAY')\n",
    "        self.array[self.logical_size] = value\n",
    "        self.logical_size += 1\n",
    "    \n",
    "    def pop(self):\n",
    "        if self.is_empty():\n",
    "            raise 'Empty'\n",
    "        temp = self.array[self.logical_size]\n",
    "        self.logical_size-=1\n",
    "        return temp\n",
    "    \n",
    "    def peek(self):\n",
    "        return self.array[self.logical_size]\n",
    "\n",
    "    def is_full(self):\n",
    "        return self.logical_size==self.physical_size\n",
    "\n",
    "    def is_empty(self):\n",
    "        if self.logical_size==0:\n",
    "            return True\n",
    "        return False\n",
    "    def __str__(self):\n",
    "        s = ''\n",
    "        for i in range(self.logical_size):\n",
    "            s+=str(self.array[i])\n",
    "        return s\n",
    "\n"
   ]
  },
  {
   "cell_type": "code",
   "execution_count": null,
   "id": "78343968",
   "metadata": {},
   "outputs": [],
   "source": []
  }
 ],
 "metadata": {
  "kernelspec": {
   "display_name": "Python 3 (ipykernel)",
   "language": "python",
   "name": "python3"
  },
  "language_info": {
   "codemirror_mode": {
    "name": "ipython",
    "version": 3
   },
   "file_extension": ".py",
   "mimetype": "text/x-python",
   "name": "python",
   "nbconvert_exporter": "python",
   "pygments_lexer": "ipython3",
   "version": "3.10.9"
  }
 },
 "nbformat": 4,
 "nbformat_minor": 5
}
