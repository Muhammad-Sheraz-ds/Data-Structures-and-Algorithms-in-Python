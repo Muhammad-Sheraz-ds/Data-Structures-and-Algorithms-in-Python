{
 "cells": [
  {
   "cell_type": "markdown",
   "id": "1a527bac-bdb6-4638-aca5-e46c076e1d77",
   "metadata": {},
   "source": [
    "---   \n",
    "<img align=\"left\" width=\"110\"   src=\"https://upload.wikimedia.org/wikipedia/commons/c/c3/Python-logo-notext.svg\"> \n",
    "\n",
    "<h1 align=\"center\">Journey from Begginer to Expert</h1>\n",
    "<h1 align=\"center\">Course: Data Structures and Algorithms</h1>\n",
    "\n",
    "---\n",
    "<h1><div align=\"right\">Muhammad Sheraz (Python Programmer)</div></h1>\n",
    "<h1><div align=\"center\">Lecture (Queues Implementation by Array)</div></h1>\n",
    "<img  ALIGN='cen' src='../../Images/QUEUE.jpg'>"
   ]
  },
  {
   "cell_type": "code",
   "execution_count": null,
   "id": "30404bc4-ccb3-4da9-8946-ccc1df70be7b",
   "metadata": {},
   "outputs": [],
   "source": []
  },
  {
   "cell_type": "code",
   "execution_count": null,
   "id": "f680f36c-2b16-4abf-9f6f-6e3104ab4299",
   "metadata": {},
   "outputs": [],
   "source": []
  },
  {
   "cell_type": "code",
   "execution_count": null,
   "id": "6a6a0c90-38cd-4974-bf69-48eb888871cc",
   "metadata": {},
   "outputs": [],
   "source": []
  },
  {
   "cell_type": "code",
   "execution_count": null,
   "id": "961341a7-4783-4ed7-9d91-72fb4a4393b1",
   "metadata": {},
   "outputs": [],
   "source": []
  },
  {
   "cell_type": "code",
   "execution_count": 3,
   "id": "b037ba7d",
   "metadata": {},
   "outputs": [],
   "source": [
    "from abc import ABC, abstractmethod\n",
    "class Queue(ABC):\n",
    "    @abstractmethod\n",
    "    def __init__(self):\n",
    "        pass\n",
    "\n",
    "    @abstractmethod\n",
    "    def __str__(self):\n",
    "        pass\n",
    "\n",
    "    @abstractmethod\n",
    "    def enqueue(self,item):\n",
    "        pass\n",
    "\n",
    "    @abstractmethod\n",
    "    def dequeue(self):\n",
    "        pass\n",
    "\n",
    "    @abstractmethod\n",
    "    def is_empty(self):\n",
    "        pass\n",
    "\n",
    "    def is_full(self):\n",
    "        pass\n",
    "\n",
    "    @abstractmethod\n",
    "    def size(self):\n",
    "        pass\n",
    "\n"
   ]
  },
  {
   "cell_type": "code",
   "execution_count": 4,
   "id": "78343968",
   "metadata": {},
   "outputs": [],
   "source": [
    "class Queues:\n",
    "    def __init__(self, size=100):\n",
    "        size = size + 1  # +1 is for a reason\n",
    "        self._arraySize = size\n",
    "        self._array = [None] * size\n",
    "        self._rear = 0\n",
    "        self._front = 0\n",
    "    \n",
    "    \n",
    "    def __str__(self):\n",
    "        s = ''\n",
    "        i = self._front\n",
    "        while i != self._rear:\n",
    "            s += str(self._array[i]) + ' '\n",
    "            i = i + (i + 1) % self._arraySize\n",
    "        return s\n",
    "\n",
    "    def size(self):\n",
    "        return (self._rear - self._front + self._arraySize) % self._arraySize\n",
    "\n",
    "    def isEmpty(self):\n",
    "        return self.size() == 0   or   self._front == self._rear\n",
    "\n",
    "    def isFull(self): \n",
    "        return self.size() == self._arraySize - 1  \n",
    "\n",
    "    def enqueue(self, val):\n",
    "        if not self.isFull():\n",
    "            self._array[self._rear] = val\n",
    "            self._rear = (self._rear + 1) % self._arraySize\n",
    "        else:\n",
    "            raise RuntimeError(\"queue full\")\n",
    "\n",
    "    def peek(self):\n",
    "        if not self.isEmpty():\n",
    "            return self._array[self._front]\n",
    "        else:\n",
    "            raise RuntimeError(\"queue empty, nothing to return\")\n",
    "    \n",
    "    def dequeue(self):\n",
    "        val = self.peek()\n",
    "        self._front = (self._front + 1) % self._arraySize\n",
    "        return val\n",
    "\n"
   ]
  },
  {
   "cell_type": "code",
   "execution_count": null,
   "id": "8c73ff32",
   "metadata": {},
   "outputs": [],
   "source": []
  },
  {
   "cell_type": "code",
   "execution_count": 5,
   "id": "4e814937",
   "metadata": {},
   "outputs": [
    {
     "name": "stdout",
     "output_type": "stream",
     "text": [
      "Is queue empty? True\n",
      "Dequeue error: queue empty, nothing to return\n",
      "Is queue full? True\n",
      "Queue size: 5\n",
      "Enqueue error: queue full\n",
      "Front element: 1\n",
      "Queue elements:\n",
      "1 2 3 4 5 \n",
      "Is queue empty? True\n"
     ]
    }
   ],
   "source": [
    "def main():\n",
    "    queue = Queues(size=5)\n",
    "\n",
    "    print(\"Is queue empty?\", queue.isEmpty())\n",
    "\n",
    "    try:\n",
    "        queue.dequeue()\n",
    "    except Exception as e:\n",
    "        print(\"Dequeue error:\", e)\n",
    "\n",
    "    for i in range(1, 6):\n",
    "        queue.enqueue(i)\n",
    "\n",
    "    print(\"Is queue full?\", queue.isFull())\n",
    "    print(\"Queue size:\", queue.size())\n",
    "\n",
    "    try:\n",
    "        queue.enqueue(6)\n",
    "    except Exception as e:\n",
    "        print(\"Enqueue error:\", e)\n",
    "\n",
    "    print(\"Front element:\", queue.peek())\n",
    "\n",
    "    print(\"Queue elements:\")\n",
    "    while not queue.isEmpty():\n",
    "        print(queue.dequeue(), end=\" \")\n",
    "\n",
    "    print(\"\\nIs queue empty?\", queue.isEmpty())\n",
    "\n",
    "if __name__ == \"__main__\":\n",
    "    main()\n"
   ]
  },
  {
   "cell_type": "code",
   "execution_count": null,
   "id": "01e73b3e",
   "metadata": {},
   "outputs": [],
   "source": []
  }
 ],
 "metadata": {
  "kernelspec": {
   "display_name": "Python 3 (ipykernel)",
   "language": "python",
   "name": "python3"
  },
  "language_info": {
   "codemirror_mode": {
    "name": "ipython",
    "version": 3
   },
   "file_extension": ".py",
   "mimetype": "text/x-python",
   "name": "python",
   "nbconvert_exporter": "python",
   "pygments_lexer": "ipython3",
   "version": "3.10.6"
  }
 },
 "nbformat": 4,
 "nbformat_minor": 5
}
