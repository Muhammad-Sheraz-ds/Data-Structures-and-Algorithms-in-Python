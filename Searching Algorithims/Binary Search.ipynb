{
 "cells": [
  {
   "cell_type": "markdown",
   "id": "59816fa2",
   "metadata": {},
   "source": [
    "# Recursive Binary Search"
   ]
  },
  {
   "cell_type": "code",
   "execution_count": 2,
   "id": "9e189df3",
   "metadata": {},
   "outputs": [],
   "source": [
    "def binary_search_recursive(arr, target, low, high):\n",
    "    if low <= high:\n",
    "        mid = (low + high) // 2\n",
    "        if arr[mid] == target:\n",
    "            return mid\n",
    "        elif arr[mid] > target:\n",
    "            return binary_search_recursive(arr, target, low, mid - 1)\n",
    "        else:\n",
    "            return binary_search_recursive(arr, target, mid + 1, high)\n",
    "    else:\n",
    "        return -1  \n"
   ]
  },
  {
   "cell_type": "markdown",
   "id": "cf95df1c",
   "metadata": {},
   "source": [
    "# Iterative Binary Search"
   ]
  },
  {
   "cell_type": "code",
   "execution_count": 3,
   "id": "f3f32406",
   "metadata": {},
   "outputs": [],
   "source": [
    "def binary_search_iterative(arr, target):\n",
    "    low, high = 0, len(arr) - 1\n",
    "\n",
    "    while low <= high:\n",
    "        mid = (low + high) // 2\n",
    "\n",
    "        if arr[mid] == target:\n",
    "            return mid\n",
    "        elif arr[mid] > target:\n",
    "            high = mid - 1\n",
    "        else:\n",
    "            low = mid + 1\n",
    "\n",
    "    return -1  \n"
   ]
  },
  {
   "cell_type": "code",
   "execution_count": null,
   "id": "ad04bfd7",
   "metadata": {},
   "outputs": [],
   "source": []
  }
 ],
 "metadata": {
  "kernelspec": {
   "display_name": "Python 3 (ipykernel)",
   "language": "python",
   "name": "python3"
  },
  "language_info": {
   "codemirror_mode": {
    "name": "ipython",
    "version": 3
   },
   "file_extension": ".py",
   "mimetype": "text/x-python",
   "name": "python",
   "nbconvert_exporter": "python",
   "pygments_lexer": "ipython3",
   "version": "3.10.9"
  }
 },
 "nbformat": 4,
 "nbformat_minor": 5
}
