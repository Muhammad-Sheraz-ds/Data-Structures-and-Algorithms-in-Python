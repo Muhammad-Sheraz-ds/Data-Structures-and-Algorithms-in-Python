{
 "cells": [
  {
   "cell_type": "code",
   "execution_count": 33,
   "id": "92e89537-de8a-4c14-ba53-70828a1c4b47",
   "metadata": {},
   "outputs": [],
   "source": [
    "import networkx as nx\n",
    "import matplotlib.pyplot as plt\n",
    "\n",
    "\n",
    "class CircularLinkedList:\n",
    "    class Node:\n",
    "        def __init__(self, value=None):\n",
    "            self.value = value\n",
    "            self.next_node = None\n",
    "\n",
    "    def __init__(self):\n",
    "        self.head = None\n",
    "        self.tail = None\n",
    "        self.size = 0\n",
    "\n",
    "    class LinkedListIterator:\n",
    "        def __init__(self, node,length):\n",
    "            self.current = node\n",
    "            self.index = 0\n",
    "            self.length = length\n",
    "\n",
    "        def __iter__(self):\n",
    "            return self\n",
    "\n",
    "        def __next__(self):\n",
    "            if self.index < self.length:\n",
    "                current_node = self.current\n",
    "                self.current = self.current.next_node\n",
    "                self.index+=1\n",
    "                return current_node.value\n",
    "            else:\n",
    "                raise StopIteration\n",
    "\n",
    "    def __iter__(self):\n",
    "        return self.LinkedListIterator(self.head,self.size)\n",
    "\n",
    "    def insert_at_end(self, value):\n",
    "        new_node = self.Node(value)\n",
    "        if self.head is None:\n",
    "            self.head = new_node\n",
    "            self.tail = new_node\n",
    "            new_node.next_node = self.head  # Pointing to itself for a circular list\n",
    "        else:\n",
    "            new_node.next_node = self.head\n",
    "            self.tail.next_node = new_node\n",
    "            self.tail = new_node\n",
    "        self.size += 1\n",
    "\n",
    "    def insert_at_beginning(self, value):\n",
    "        new_node = self.Node(value)\n",
    "        if self.head is None:\n",
    "            self.head = new_node\n",
    "            self.tail = new_node\n",
    "            new_node.next_node = self.head  # Pointing to itself for a circular list\n",
    "        else:\n",
    "            new_node.next_node = self.head\n",
    "            self.head = new_node\n",
    "            self.tail.next_node = new_node\n",
    "        self.size += 1\n",
    "\n",
    "    def insert_at_index(self, value, index):\n",
    "        if index > self.size:\n",
    "            print(\"Index out of size of list\")\n",
    "            return\n",
    "        new_node = self.Node(value)\n",
    "        current_node = self.head\n",
    "        position = 0\n",
    "\n",
    "        if position == index:\n",
    "            self.insert_at_beginning(value)\n",
    "        else:\n",
    "            while position + 1 != index:\n",
    "                position = position + 1\n",
    "                current_node = current_node.next_node\n",
    "\n",
    "            new_node.next_node = current_node.next_node\n",
    "            current_node.next_node = new_node\n",
    "            self.size += 1\n",
    "\n",
    "\n",
    "    def update_node(self, value, index):\n",
    "        if index >= self.size:\n",
    "            print(\"Index out of size of list\")\n",
    "            return\n",
    "        current_node = self.head\n",
    "        position = 0\n",
    "        while position != index:\n",
    "            position = position + 1\n",
    "            current_node = current_node.next_node\n",
    "        current_node.value = value\n",
    "\n",
    "    def remove_last_node(self):\n",
    "        if self.head is not None:\n",
    "            if self.size == 1:\n",
    "                self.size = 0\n",
    "                self.head = None\n",
    "                self.tail = None\n",
    "            else:\n",
    "                current_node = self.head\n",
    "                while current_node.next_node != self.tail:\n",
    "                    current_node = current_node.next_node\n",
    "                current_node.next_node = self.head\n",
    "                self.tail = current_node\n",
    "                self.size -= 1\n",
    "\n",
    "    def remove_first_node(self):\n",
    "        if self.head is not None:\n",
    "            if self.size == 1:\n",
    "                self.size = 0\n",
    "                self.head = None\n",
    "                self.tail = None\n",
    "            else:\n",
    "                self.head = self.head.next_node\n",
    "                self.tail.next_node = self.head  # Update the tail's next_node to maintain the circular structure\n",
    "                self.size -= 1\n",
    "\n",
    "    def remove_at_index(self, index):\n",
    "        if self.head is not None:\n",
    "            if index == 0:\n",
    "                self.remove_first_node()\n",
    "            elif index >= self.size:\n",
    "                print(\"Index out of size of list\")\n",
    "            else:\n",
    "                current_node = self.head\n",
    "                position = 0\n",
    "                while position + 1 != index:\n",
    "                    position = position + 1\n",
    "                    current_node = current_node.next_node\n",
    "                current_node.next_node = current_node.next_node.next_node\n",
    "                self.size -= 1\n",
    "\n",
    "\n",
    "    def remove_node(self, value):\n",
    "        if self.head is not None:\n",
    "            if self.head.value == value:\n",
    "                self.remove_first_node()\n",
    "            elif self.tail.value == value:\n",
    "                self.remove_last_node()\n",
    "            else:\n",
    "                current_node = self.head\n",
    "                while current_node.next_node != self.tail and current_node.next_node.value != value:\n",
    "                    current_node = current_node.next_node\n",
    "                if current_node.next_node.value == value:\n",
    "                    current_node.next_node = current_node.next_node.next_node\n",
    "                    self.size -= 1\n",
    "\n",
    "    def size_of_linked_list(self):\n",
    "        return self.size\n",
    "\n",
    "    def display(self):\n",
    "        G = nx.DiGraph()\n",
    "\n",
    "        if self.head is not None:\n",
    "            current_node = self.head\n",
    "            while True:\n",
    "                G.add_node(current_node.value)\n",
    "                G.add_edge(current_node.value, current_node.next_node.value)\n",
    "\n",
    "                current_node = current_node.next_node\n",
    "                if current_node == self.head:\n",
    "                    break\n",
    "\n",
    "        pos = nx.circular_layout(G)\n",
    "        nx.draw(G, pos, with_labels=True, font_weight='bold', node_size=700, node_color='skyblue', alpha=0.7,\n",
    "                arrowsize=20)\n",
    "\n",
    "        edge_labels = nx.get_edge_attributes(G, 'label')\n",
    "        nx.draw_networkx_edge_labels(G, pos, edge_labels=edge_labels)\n",
    "\n",
    "        plt.title(\"Circular Linked List\")\n",
    "        plt.show()\n",
    "\n"
   ]
  },
  {
   "cell_type": "code",
   "execution_count": 23,
   "id": "27eda399",
   "metadata": {},
   "outputs": [
    {
     "name": "stdout",
     "output_type": "stream",
     "text": [
      "Initial circular linked list:\n"
     ]
    },
    {
     "data": {
      "image/png": "[encoded data removed]",
      "text/plain": [
       "<Figure size 432x288 with 1 Axes>"
      ]
     },
     "metadata": {},
     "output_type": "display_data"
    }
   ],
   "source": [
    "my_linked_list = CircularLinkedList()\n",
    "\n",
    "my_linked_list.insert_at_end(10)\n",
    "my_linked_list.insert_at_end(20)\n",
    "my_linked_list.insert_at_end(30)\n",
    "my_linked_list.insert_at_end(40)\n",
    "\n",
    "print(\"Initial circular linked list:\")\n",
    "my_linked_list.display()"
   ]
  },
  {
   "cell_type": "code",
   "execution_count": 24,
   "id": "cbe4ef63",
   "metadata": {},
   "outputs": [
    {
     "name": "stdout",
     "output_type": "stream",
     "text": [
      "Inserting 5 at the beginning:\n"
     ]
    },
    {
     "data": {
      "image/png": "[encoded data removed]",
      "text/plain": [
       "<Figure size 432x288 with 1 Axes>"
      ]
     },
     "metadata": {},
     "output_type": "display_data"
    }
   ],
   "source": [
    "print(\"Inserting 5 at the beginning:\")\n",
    "my_linked_list.insert_at_beginning(5)\n",
    "my_linked_list.display()"
   ]
  },
  {
   "cell_type": "code",
   "execution_count": 25,
   "id": "b2e73d2d-f35d-47ee-a4ef-633954f1cceb",
   "metadata": {},
   "outputs": [
    {
     "name": "stdout",
     "output_type": "stream",
     "text": [
      "Updating 25 at index 2:\n"
     ]
    },
    {
     "data": {
      "image/png": "[encoded data removed]",
      "text/plain": [
       "<Figure size 432x288 with 1 Axes>"
      ]
     },
     "metadata": {},
     "output_type": "display_data"
    }
   ],
   "source": [
    "print(\"Updating 25 at index 2:\")\n",
    "my_linked_list.update_node(25, 2)\n",
    "my_linked_list.display()"
   ]
  },
  {
   "cell_type": "code",
   "execution_count": 26,
   "id": "194a63d7-c38e-4836-98f9-498a9988f6c7",
   "metadata": {},
   "outputs": [
    {
     "name": "stdout",
     "output_type": "stream",
     "text": [
      "Removing the first node:\n"
     ]
    },
    {
     "data": {
      "image/png": "[encoded data removed]",
      "text/plain": [
       "<Figure size 432x288 with 1 Axes>"
      ]
     },
     "metadata": {},
     "output_type": "display_data"
    }
   ],
   "source": [
    "print(\"Removing the first node:\")\n",
    "my_linked_list.remove_first_node()\n",
    "my_linked_list.display()\n"
   ]
  },
  {
   "cell_type": "code",
   "execution_count": 27,
   "id": "c56f965a-fe92-4d0f-91db-d153c45ba020",
   "metadata": {},
   "outputs": [
    {
     "name": "stdout",
     "output_type": "stream",
     "text": [
      "Removing the last node:\n"
     ]
    },
    {
     "data": {
      "image/png": "[encoded data removed]",
      "text/plain": [
       "<Figure size 432x288 with 1 Axes>"
      ]
     },
     "metadata": {},
     "output_type": "display_data"
    }
   ],
   "source": [
    "print(\"Removing the last node:\")\n",
    "my_linked_list.remove_last_node()\n",
    "my_linked_list.display()\n"
   ]
  },
  {
   "cell_type": "code",
   "execution_count": 28,
   "id": "1e257cac-8ff3-44cd-841d-a9a73e370579",
   "metadata": {},
   "outputs": [
    {
     "name": "stdout",
     "output_type": "stream",
     "text": [
      "Removing a node with value 30:\n"
     ]
    },
    {
     "data": {
      "image/png": "[encoded data removed]",
      "text/plain": [
       "<Figure size 432x288 with 1 Axes>"
      ]
     },
     "metadata": {},
     "output_type": "display_data"
    }
   ],
   "source": [
    "print(\"Removing a node with value 30:\")\n",
    "my_linked_list.remove_node(30)\n",
    "my_linked_list.display()"
   ]
  },
  {
   "cell_type": "code",
   "execution_count": 29,
   "id": "38f5fa81-a28b-430b-93bb-f77b5590f7b8",
   "metadata": {},
   "outputs": [
    {
     "name": "stdout",
     "output_type": "stream",
     "text": [
      "Inserting value 15 at index 2:\n"
     ]
    },
    {
     "data": {
      "image/png": "[encoded data removed]",
      "text/plain": [
       "<Figure size 432x288 with 1 Axes>"
      ]
     },
     "metadata": {},
     "output_type": "display_data"
    }
   ],
   "source": [
    "print(\"Inserting value 15 at index 2:\")\n",
    "my_linked_list.insert_at_index(15, 2)\n",
    "my_linked_list.display()"
   ]
  },
  {
   "cell_type": "code",
   "execution_count": 30,
   "id": "a7622bec-cd52-4db9-b710-5a1a46ec6038",
   "metadata": {},
   "outputs": [
    {
     "name": "stdout",
     "output_type": "stream",
     "text": [
      "Removing a node at index 2:\n"
     ]
    },
    {
     "data": {
      "image/png": "[encoded data removed]",
      "text/plain": [
       "<Figure size 432x288 with 1 Axes>"
      ]
     },
     "metadata": {},
     "output_type": "display_data"
    }
   ],
   "source": [
    "print(\"Removing a node at index 2:\")\n",
    "my_linked_list.remove_at_index(2)\n",
    "my_linked_list.display()"
   ]
  },
  {
   "cell_type": "code",
   "execution_count": 31,
   "id": "a8927b51-6a7f-4361-87d8-7a38ed820a96",
   "metadata": {},
   "outputs": [
    {
     "name": "stdout",
     "output_type": "stream",
     "text": [
      "Size of the circular linked list: 2\n"
     ]
    }
   ],
   "source": [
    "print(\"Size of the circular linked list:\", my_linked_list.size_of_linked_list())"
   ]
  },
  {
   "cell_type": "code",
   "execution_count": 32,
   "id": "3cf9fafa",
   "metadata": {},
   "outputs": [
    {
     "name": "stdout",
     "output_type": "stream",
     "text": [
      "Using the iterator:\n",
      "10\n",
      "25\n"
     ]
    }
   ],
   "source": [
    "print(\"Using the iterator:\")\n",
    "for value in my_linked_list:\n",
    "    print(value)\n",
    "\n"
   ]
  },
  {
   "cell_type": "code",
   "execution_count": null,
   "id": "e3d18594",
   "metadata": {},
   "outputs": [],
   "source": []
  },
  {
   "cell_type": "code",
   "execution_count": null,
   "id": "5fe1312b",
   "metadata": {},
   "outputs": [],
   "source": []
  },
  {
   "cell_type": "markdown",
   "id": "c4820903",
   "metadata": {},
   "source": [
    "# Circular Linked List\n",
    "\n",
    "## Table of Contents\n",
    "- [Overview](#overview)\n",
    "- [Features](#features)\n",
    "- [Usage](#usage)\n",
    "- [Example](#example)\n",
    "- [API](#api)\n",
    "- [Contributing](#contributing)\n",
    "- [License](#license)\n",
    "\n",
    "## Overview\n",
    "\n",
    "The Circular Linked List is a Python data structure that provides an efficient way to manage a list of elements where the last element is connected to the first element, creating a circular structure. This implementation offers various operations for inserting, updating, and removing elements, as well as iterating through the circular linked list.\n",
    "\n",
    "## Features\n",
    "\n",
    "- **Insertion**: You can insert elements at the end, the beginning, or a specific index.\n",
    "- **Updating**: You can update elements at a specified index.\n",
    "- **Removal**: You can remove elements from the beginning, end, or a specific index. Additionally, you can remove elements by their value.\n",
    "- **Iteration**: The circular linked list supports iteration.\n",
    "\n",
    "\n",
    "\n",
    "## Time And Space Complexity of all Functions\n",
    "\n",
    "### `insert_at_end(value)`\n",
    "\n",
    "Inserts an element with the given value at the end of the circular linked list.\n",
    "\n",
    "- Time Complexity: O(1)\n",
    "- Space Complexity: O(1)\n",
    "\n",
    "### `insert_at_beginning(value)`\n",
    "\n",
    "Inserts an element with the given value at the beginning of the circular linked list.\n",
    "\n",
    "- Time Complexity: O(1)\n",
    "- Space Complexity: O(1)\n",
    "\n",
    "### `insert_at_index(value, index)`\n",
    "\n",
    "Inserts an element with the given value at the specified index.\n",
    "\n",
    "- Time Complexity: O(n), where n is the size of the list.\n",
    "- Space Complexity: O(1)\n",
    "\n",
    "### `update_node(value, index)`\n",
    "\n",
    "Updates the element at the specified index with the new value.\n",
    "\n",
    "- Time Complexity: O(n), where n is the size of the list.\n",
    "- Space Complexity: O(1)\n",
    "\n",
    "### `remove_last_node()`\n",
    "\n",
    "Removes the last element from the circular linked list.\n",
    "\n",
    "- Time Complexity: O(n), where n is the size of the list.\n",
    "- Space Complexity: O(1)\n",
    "\n",
    "### `remove_first_node()`\n",
    "\n",
    "Removes the first element from the circular linked list.\n",
    "\n",
    "- Time Complexity: O(1)\n",
    "- Space Complexity: O(1)\n",
    "\n",
    "### `remove_at_index(index)`\n",
    "\n",
    "Removes the element at the specified index.\n",
    "\n",
    "- Time Complexity: O(n), where n is the size of the list.\n",
    "- Space Complexity: O(1)\n",
    "\n",
    "### `remove_node(value)`\n",
    "\n",
    "Removes the first occurrence of an element with the given value.\n",
    "\n",
    "- Time Complexity: O(n), where n is the size of the list.\n",
    "- Space Complexity: O(1)\n",
    "\n",
    "### `size_of_linked_list()`\n",
    "\n",
    "Returns the size of the circular linked list.\n",
    "\n",
    "- Time Complexity: O(1)\n",
    "- Space Complexity: O(1)\n",
    "\n",
    "### `display()`\n",
    "\n",
    "Displays the elements of the circular linked list.\n",
    "\n",
    "- Time Complexity: O(n), where n is the size of the list.\n",
    "- Space Complexity: O(1)\n",
    "\n",
    "### `__iter__()`\n",
    "\n",
    "Enables iteration through the circular linked list.\n",
    "\n",
    "- Time Complexity: O(1)\n",
    "- Space Complexity: O(1)\n",
    "\n"
   ]
  },
  {
   "cell_type": "code",
   "execution_count": null,
   "id": "ffdad189",
   "metadata": {},
   "outputs": [],
   "source": []
  },
  {
   "cell_type": "code",
   "execution_count": null,
   "id": "3ecc183b",
   "metadata": {},
   "outputs": [],
   "source": []
  },
  {
   "cell_type": "code",
   "execution_count": null,
   "id": "e24d428b",
   "metadata": {},
   "outputs": [],
   "source": []
  },
  {
   "cell_type": "code",
   "execution_count": null,
   "id": "adcf783a",
   "metadata": {},
   "outputs": [],
   "source": []
  },
  {
   "cell_type": "markdown",
   "id": "04d1df12",
   "metadata": {},
   "source": [
    "# Circular Linked List\n",
    "\n",
    "## Table of Contents\n",
    "- [Overview](#overview)\n",
    "- [Features](#features)\n",
    "- [Time and Space Complexity](#time-and-space-complexity)\n",
    "- [Usage](#usage)\n",
    "- [Example](#example)\n",
    "- [API](#api)\n",
    "- [Contributing](#contributing)\n",
    "- [License](#license)\n",
    "\n",
    "## Overview\n",
    "\n",
    "The Circular Linked List is a Python data structure that provides an efficient way to manage a list of elements where the last element is connected to the first element, creating a circular structure. This implementation offers various operations for inserting, updating, and removing elements, as well as iterating through the circular linked list.\n",
    "\n",
    "## Features\n",
    "\n",
    "- **Insertion**: You can insert elements at the end, the beginning, or a specific index.\n",
    "- **Updating**: You can update elements at a specified index.\n",
    "- **Removal**: You can remove elements from the beginning, end, or a specific index. Additionally, you can remove elements by their value.\n",
    "- **Iteration**: The circular linked list supports iteration.\n",
    "\n",
    "## Time and Space Complexity\n",
    "\n",
    "Here are the time and space complexity details for each function in the Circular Linked List:\n",
    "\n",
    "| Function                | Time Complexity           | Space Complexity     |\n",
    "|-------------------------|---------------------------|----------------------|\n",
    "| `insert_at_end(value)`  | O(1)                      | O(1)                 |\n",
    "| `insert_at_beginning(value)` | O(1)               | O(1)                 |\n",
    "| `insert_at_index(value, index)` | O(n)             | O(1)                 |\n",
    "| `update_node(value, index)` | O(n)                   | O(1)                 |\n",
    "| `remove_last_node()`    | O(n)                      | O(1)                 |\n",
    "| `remove_first_node()`   | O(1)                      | O(1)                 |\n",
    "| `remove_at_index(index)` | O(n)                     | O(1)                 |\n",
    "| `remove_node(value)`    | O(n)                      | O(1)                 |\n",
    "| `size_of_linked_list()` | O(1)                      | O(1)                 |\n",
    "| `display()`             | O(n)                      | O(1)                 |\n",
    "| `__iter__()`            | O(1)                      | O(1)                 |\n",
    "\n",
    "## Usage\n",
    "\n",
    "To use the Circular Linked List, you can create an instance of the `CircularLinkedList` class and then perform various operations on it as described in the API section.\n",
    "\n",
    "## Example\n",
    "\n",
    "Here's an example of how to use the Circular Linked List:\n",
    "\n",
    "```python\n",
    "# Create a circular linked list\n",
    "my_linked_list = CircularLinkedList()\n",
    "\n",
    "# Insert elements\n",
    "my_linked_list.insert_at_end(10)\n",
    "my_linked_list.insert_at_end(20)\n",
    "my_linked_list.insert_at_end(30)\n",
    "\n",
    "# Display the list\n",
    "my_linked_list.display()\n",
    "\n",
    "# Inserting a value at the beginning\n",
    "my_linked_list.insert_at_beginning(5)\n",
    "\n",
    "# Update a value at a specific index\n",
    "my_linked_list.update_node(25, 2)\n",
    "\n",
    "# Remove the first and last nodes\n",
    "my_linked_list.remove_first_node()\n",
    "my_linked_list.remove_last_node()\n",
    "\n",
    "# Remove a node with a specific value\n",
    "my_linked_list.remove_node(20)\n",
    "\n",
    "# Insert a value at a specific index\n",
    "my_linked_list.insert_at_index(15, 2)\n",
    "\n",
    "# Remove a node at a specific index\n",
    "my_linked_list.remove_at_index(2)\n",
    "\n",
    "# Get the size of the circular linked list\n",
    "size = my_linked_list.size_of_linked_list()\n"
   ]
  }
 ],
 "metadata": {
  "kernelspec": {
   "display_name": "Python 3 (ipykernel)",
   "language": "python",
   "name": "python3"
  },
  "language_info": {
   "codemirror_mode": {
    "name": "ipython",
    "version": 3
   },
   "file_extension": ".py",
   "mimetype": "text/x-python",
   "name": "python",
   "nbconvert_exporter": "python",
   "pygments_lexer": "ipython3",
   "version": "3.10.6"
  }
 },
 "nbformat": 4,
 "nbformat_minor": 5
}
