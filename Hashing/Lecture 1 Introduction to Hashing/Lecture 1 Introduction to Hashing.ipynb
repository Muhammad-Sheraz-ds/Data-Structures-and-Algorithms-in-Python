{
 "cells": [
  {
   "cell_type": "markdown",
   "id": "a245f709-969d-49c3-9e66-efbbece0b303",
   "metadata": {},
   "source": [
    "## Introduction\n",
    "\n",
    "The `HashTable` class is an implementation of a hash table in Python, providing methods for inserting elements using chaining or open addressing and searching for elements efficiently.\n",
    "\n",
    "## Time Complexity\n",
    "\n",
    "- **Insert (Chaining):** O(1) average case, O(n) worst case (due to potential collisions).\n",
    "- **Insert (Open Addressing):** O(1) average case, O(n) worst case (due to potential collisions).\n",
    "- **Search (Chaining):** O(1) average case, O(n) worst case (due to potential collisions).\n",
    "- **Search (Open Addressing):** O(1) average case, O(n) worst case (due to potential collisions).\n",
    "\n",
    "## Space Complexity\n",
    "\n",
    "- The space complexity of the `HashTable` class is O(n), where n is the size of the hash table.\n",
    "\n",
    "## Class Methods\n",
    "\n",
    "### `__init__(self, size)`\n",
    "\n",
    "- **Description:** Initializes a hash table with a specified size.\n",
    "- **Parameters:**\n",
    "  - `size` (int): The size of the hash table.\n",
    "\n",
    "### `hash_function(self, key)`\n",
    "\n",
    "- **Description:** Computes the hash value for a given key.\n",
    "- **Parameters:**\n",
    "  - `key`: The key to be hashed.\n",
    "- **Returns:**\n",
    "  - The hash value.\n",
    "\n",
    "### `insert_chaining(self, key, value)`\n",
    "\n",
    "- **Description:** Inserts a key-value pair into the hash table using chaining for collision resolution.\n",
    "- **Parameters:**\n",
    "  - `key`: The key to be inserted.\n",
    "  - `value`: The corresponding value.\n",
    "\n",
    "### `insert_open_addressing(self, key, value)`\n",
    "\n",
    "- **Description:** Inserts a key-value pair into the hash table using open addressing for collision resolution.\n",
    "- **Parameters:**\n",
    "  - `key`: The key to be inserted.\n",
    "  - `value`: The corresponding value.\n",
    "\n",
    "### `search(self, key)`\r\n",
    "\r\n",
    "- **Description:** Searches for a key in the hash table and returns the corresponding value.\r\n",
    "- **Parameters:**\r\n",
    "  - `key`: The key to be searched.\r\n",
    "- **Returns:**\r\n",
    "  - The corresponding value if the key is found, otherwise `None`."
   ]
  },
  {
   "cell_type": "code",
   "execution_count": 65,
   "id": "761c9913-52f2-482a-b967-cd3f009677a5",
   "metadata": {},
   "outputs": [
    {
     "name": "stdout",
     "output_type": "stream",
     "text": [
      "Hash of 42 is 2\n",
      "\n"
     ]
    }
   ],
   "source": [
    "\n",
    "# Hash Function - Simple remainder-based hash function\n",
    "def simple_hash(value, size):\n",
    "    return value % size\n",
    "\n",
    "value_to_hash = 42\n",
    "hash_size = 10\n",
    "\n",
    "# Hashing the value using the simple hash function\n",
    "hashed_value = simple_hash(value_to_hash, hash_size)\n",
    "\n",
    "print(f\"Hash of {value_to_hash} is {hashed_value}\\n\")\n",
    "\n",
    "\n"
   ]
  },
  {
   "cell_type": "code",
   "execution_count": 66,
   "id": "6691451e-93a3-4711-9bde-57ffb9f9cebb",
   "metadata": {},
   "outputs": [
    {
     "name": "stdout",
     "output_type": "stream",
     "text": [
      "Hash Table: {2: 'Data associated with key'}\n",
      "Retrieved Data: Data associated with key\n",
      "\n"
     ]
    }
   ],
   "source": [
    "hash_table = {}\n",
    "\n",
    "hash_table[hashed_value] = \"Data associated with key\"\n",
    "\n",
    "retrieved_data = hash_table[hashed_value]\n",
    "\n",
    "print(f\"Hash Table: {hash_table}\")\n",
    "print(f\"Retrieved Data: {retrieved_data}\\n\")\n",
    "\n",
    "\n"
   ]
  },
  {
   "cell_type": "code",
   "execution_count": 67,
   "id": "06eb2187-513d-4fe8-9ad2-f8f333958dae",
   "metadata": {},
   "outputs": [
    {
     "name": "stdout",
     "output_type": "stream",
     "text": [
      "Enhanced Hash of 42 is 4\n"
     ]
    }
   ],
   "source": [
    "def enhanced_hash(value, size):\n",
    "    prime_multiplier = 17\n",
    "    return (value * prime_multiplier) % size\n",
    "\n",
    "enhanced_hashed_value = enhanced_hash(value_to_hash, hash_size)\n",
    "\n",
    "print(f\"Enhanced Hash of {value_to_hash} is {enhanced_hashed_value}\")\n"
   ]
  },
  {
   "cell_type": "code",
   "execution_count": null,
   "id": "d9b4530e-0bbb-42cc-a635-049875a95d4d",
   "metadata": {},
   "outputs": [],
   "source": []
  },
  {
   "cell_type": "code",
   "execution_count": 68,
   "id": "9fa792ff-dd7f-4573-bbf2-824afbb0ae79",
   "metadata": {},
   "outputs": [],
   "source": [
    "class HashTable:\n",
    "    def __init__(self, size):\n",
    "        self.size = size\n",
    "        self.table = [None] * size\n",
    "\n",
    "    def hash_function(self, key):\n",
    "        # A simple hash function for demonstration purposes\n",
    "        # In a real-world scenario, a more sophisticated hash function should be used\n",
    "        return hash(key) % self.size\n",
    "\n",
    "    def insert_chaining(self, key, value):\n",
    "        index = self.hash_function(key)\n",
    "        if self.table[index] is None:\n",
    "            self.table[index] = [(key, value)]\n",
    "        else:\n",
    "            # Handle collision using chaining\n",
    "            self.table[index].append((key, value))\n",
    "\n",
    "    def insert_open_addressing(self, key, value):\n",
    "        index = self.hash_function(key)\n",
    "        while self.table[index] is not None:\n",
    "            # Handle collision using linear probing (open addressing)\n",
    "            index = (index + 1) % self.size\n",
    "        self.table[index] = (key, value)\n",
    "\n",
    "    def search(self, key):\n",
    "        index = self.hash_function(key)\n",
    "        if self.table[index] is not None:\n",
    "            # Search for key in the chain (if chaining is used)\n",
    "            for k, v in self.table[index]:\n",
    "                if k == key:\n",
    "                    return v\n",
    "        return None\n",
    "\n"
   ]
  },
  {
   "cell_type": "code",
   "execution_count": 69,
   "id": "29752925-fa96-4df1-a35e-ceee3d289e57",
   "metadata": {},
   "outputs": [],
   "source": [
    "class HashTable:\n",
    "    def __init__(self, size):\n",
    "        self.size = size\n",
    "        self.table = [None] * size\n",
    "\n",
    "    def hash_function(self, key):\n",
    "        return hash(key) % self.size\n",
    "\n",
    "    def insert_chaining(self, key, value):\n",
    "        index = self.hash_function(key)\n",
    "        if self.table[index] is None:\n",
    "            self.table[index] = [(key, value)]\n",
    "        else:\n",
    "            self.table[index].append((key, value))\n",
    "\n",
    "    def insert_open_addressing(self, key, value):\n",
    "        index = self.hash_function(key)\n",
    "        while self.table[index] is not None:\n",
    "            index = (index + 1) % self.size\n",
    "        self.table[index] = (key, value)\n",
    "\n",
    "    def search(self, key):\n",
    "        index = self.hash_function(key)\n",
    "        if self.table[index] is not None:\n",
    "            # Search for key in the list (if chaining is used)\n",
    "            if isinstance(self.table[index], list):\n",
    "                for k, v in self.table[index]:\n",
    "                    if k == key:\n",
    "                        return v\n",
    "            # Search for key in the tuple (if open addressing is used)\n",
    "            elif self.table[index][0] == key:\n",
    "                return self.table[index][1]\n",
    "        return None\n"
   ]
  },
  {
   "cell_type": "markdown",
   "id": "05a4fd86-f78d-4ccb-8a03-8434363b8491",
   "metadata": {},
   "source": [
    "### Example usage"
   ]
  },
  {
   "cell_type": "code",
   "execution_count": 70,
   "id": "516cf9fd-9eaa-48ed-a4f8-77f273e805de",
   "metadata": {},
   "outputs": [],
   "source": [
    "hash_table_chaining = HashTable(size=10)\n",
    "hash_table_open_addressing = HashTable(size=10)"
   ]
  },
  {
   "cell_type": "markdown",
   "id": "ae3e99c8-09a0-4c7f-a345-01c56bb504cd",
   "metadata": {},
   "source": [
    "### Chaining example"
   ]
  },
  {
   "cell_type": "code",
   "execution_count": 71,
   "id": "03ee426b-0c28-4b8a-aeef-58c3df3dead9",
   "metadata": {},
   "outputs": [
    {
     "name": "stdout",
     "output_type": "stream",
     "text": [
      "5\n"
     ]
    }
   ],
   "source": [
    "hash_table_chaining.insert_chaining(\"apple\", 5)\n",
    "hash_table_chaining.insert_chaining(\"banana\", 8)\n",
    "print(hash_table_chaining.search(\"apple\"))  # Output: 5"
   ]
  },
  {
   "cell_type": "markdown",
   "id": "8960c9e2-7834-4fd3-a2cd-094f8b3e80e7",
   "metadata": {},
   "source": [
    "### Open addressing example"
   ]
  },
  {
   "cell_type": "code",
   "execution_count": 72,
   "id": "0bdda5e4-35e0-4f62-8a8c-f4cb18d0d642",
   "metadata": {},
   "outputs": [
    {
     "name": "stdout",
     "output_type": "stream",
     "text": [
      "8\n"
     ]
    }
   ],
   "source": [
    "hash_table_open_addressing.insert_open_addressing(\"apple\", 5)\n",
    "hash_table_open_addressing.insert_open_addressing(\"banana\", 8)\n",
    "print(hash_table_open_addressing.search(\"banana\"))  # Output: 8"
   ]
  },
  {
   "cell_type": "code",
   "execution_count": null,
   "id": "4f39c5fb-c60b-4c17-8a6a-c87c83a7fc94",
   "metadata": {},
   "outputs": [],
   "source": []
  },
  {
   "cell_type": "code",
   "execution_count": null,
   "id": "1d988a8f-3623-4f45-a878-caeec080f135",
   "metadata": {},
   "outputs": [],
   "source": []
  },
  {
   "cell_type": "code",
   "execution_count": null,
   "id": "a4fce918-0f08-442b-b364-be1ca6b19cd7",
   "metadata": {},
   "outputs": [],
   "source": []
  }
 ],
 "metadata": {
  "kernelspec": {
   "display_name": "Python 3 (ipykernel)",
   "language": "python",
   "name": "python3"
  },
  "language_info": {
   "codemirror_mode": {
    "name": "ipython",
    "version": 3
   },
   "file_extension": ".py",
   "mimetype": "text/x-python",
   "name": "python",
   "nbconvert_exporter": "python",
   "pygments_lexer": "ipython3",
   "version": "3.10.6"
  }
 },
 "nbformat": 4,
 "nbformat_minor": 5
}
