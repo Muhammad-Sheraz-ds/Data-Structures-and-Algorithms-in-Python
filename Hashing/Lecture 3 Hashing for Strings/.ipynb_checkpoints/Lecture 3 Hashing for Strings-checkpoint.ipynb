{
 "cells": [
  {
   "cell_type": "markdown",
   "id": "4a8d5947-a36a-4961-b1d7-ec9b1844f1bf",
   "metadata": {},
   "source": [
    "\r\n",
    "## `RollingHash` Class\r\n",
    "\r\n",
    "### Initialization (`__init__`):\r\n",
    "- `base`: The base value for the rolling hash.\r\n",
    "- `mod`: The modulo value for the rolling hash.\r\n",
    "- `hash_value`: The current hash value.\r\n",
    "- `base_power`: The current base power.\r\n",
    "\r\n",
    "### Append Method (`append`):\r\n",
    "- Updates the hash value by appending a character.\r\n",
    "- Multiplies the current hash value by the base, adds the ASCII value of the new character, and takes the result modulo the modulo value.\r\n",
    "\r\n",
    "### Skip Method (`skip`):\r\n",
    "- Updates the hash value by skipping a character.\r\n",
    "- Adjusts the base power and subtracts the ASCII value of the skipped character from the hash value.\r\n",
    "\r\n",
    "### Get Hash Method (`get_hash`):\r\n",
    "- Returns the cualts the results.\r\n",
    "- If all tests pass, prints \"All tests passed!\"\r\n",
    "ts the results.\r\n",
    "- If all tests pass, prints \"All tests passed!\"\r\n"
   ]
  },
  {
   "cell_type": "code",
   "execution_count": 1,
   "id": "123ebbc7-671c-4654-800b-d4d60c803fde",
   "metadata": {},
   "outputs": [],
   "source": [
    "class RollingHash:\n",
    "    def __init__(self, base, mod):\n",
    "        \"\"\"\n",
    "        Initializes the RollingHash object.\n",
    "\n",
    "        :param base: Base value for the rolling hash.\n",
    "        :param mod: Modulo value for the rolling hash.\n",
    "        \"\"\"\n",
    "        self.base = base\n",
    "        self.mod = mod\n",
    "        self.hash_value = 0\n",
    "        self.base_power = 1\n",
    "\n",
    "    def append(self, char):\n",
    "        \"\"\"\n",
    "        Appends a character to the rolling hash.\n",
    "\n",
    "        :param char: The character to append.\n",
    "        \"\"\"\n",
    "        self.hash_value = (self.hash_value * self.base + ord(char)) % self.mod\n",
    "        self.base_power = (self.base_power * self.base) % self.mod\n",
    "\n",
    "    def skip(self, char):\n",
    "        \"\"\"\n",
    "        Skips a character from the rolling hash.\n",
    "\n",
    "        :param char: The character to skip.\n",
    "        \"\"\"\n",
    "        self.base_power = (self.base_power * pow(self.base, -1, self.mod)) % self.mod\n",
    "        self.hash_value = (self.hash_value - ord(char) * self.base_power) % self.mod\n",
    "\n",
    "    def get_hash(self):\n",
    "        \"\"\"\n",
    "        Returns the current hash value.\n",
    "\n",
    "        :return: The current hash value.\n",
    "        \"\"\"\n",
    "        return self.hash_value\n",
    "\n",
    "\n"
   ]
  },
  {
   "cell_type": "code",
   "execution_count": null,
   "id": "3f65b290-7d12-4db2-ba4b-8f818e058fdd",
   "metadata": {},
   "outputs": [],
   "source": []
  },
  {
   "cell_type": "code",
   "execution_count": 18,
   "id": "5dc0c278-62e6-419a-9f18-139d530bc693",
   "metadata": {},
   "outputs": [
    {
     "ename": "SyntaxError",
     "evalue": "unmatched ')' (3412410534.py, line 39)",
     "output_type": "error",
     "traceback": [
      "\u001b[1;36m  Cell \u001b[1;32mIn[18], line 39\u001b[1;36m\u001b[0m\n\u001b[1;33m    ))\u001b[0m\n\u001b[1;37m    ^\u001b[0m\n\u001b[1;31mSyntaxError\u001b[0m\u001b[1;31m:\u001b[0m unmatched ')'\n"
     ]
    }
   ],
   "source": [
    "\n",
    "# Test Case 1: Default RollingHash with base 256 and modulo 10^9 + 7\n",
    "rolling_hash = RollingHash(256, 10**9 + 7)\n",
    "\n",
    "# Append characters 'abcde'\n",
    "for char in \"abcde\":\n",
    "    rolling_hash.append(char)\n",
    "print(\"Test Case 1 - Hash value after appending 'abcde':\", rolling_hash.get_hash())\n",
    "\n",
    "# Skip 'a' and append 'f'\n",
    "rolling_hash.skip(\"a\")\n",
    "rolling_hash.append(\"f\")\n",
    "print(\"Test Case 1 - Hash value after skipping 'a' and appending 'f':\", rolling_hash.get_hash())\n",
    "\n",
    "# Test Case 2: Custom RollingHash with base 128 and modulo 10^9 + 9\n",
    "custom_rolling_hash = RollingHash(128, 10**9 + 9)\n",
    "\n",
    "# Append characters 'hello'\n",
    "for char in \"hello\":\n",
    "    custom_rolling_hash.append(char)\n",
    "print(\"Test Case 2 - Custom RollingHash hash value for 'hello':\", custom_rolling_hash.get_hash())\n",
    "\n",
    "# Test Case 3: RollingHash with a larger base and modulo\n",
    "larger_rolling_hash = RollingHash(997, 10**9 + 21)\n",
    "\n",
    "# Append characters 'python'\n",
    "for char in \"python\":\n",
    "    larger_rolling_hash.append(char)\n",
    "print(\"Test Case 3 - Larger RollingHash hash value for 'python':\", larger_rolling_hash.get_hash())\n",
    "\n",
    "# Test Case 4: RollingHash with a very large base and modulo\n",
    "very_large_rolling_hash = RollingHash(10**6 + 3, 10**9 + 9)\n",
    "\n",
    "# Append characters 'hashing'\n",
    "for char in \"hashing\":\n",
    "    very_large_rolling_hash.append(char)\n",
    "print(\"Test Case 4 - Very Large RollingHash hash value for 'hashing':\", very_large_rolling_hash.get_hash())\n",
    "\n",
    "\n",
    "))\r\n",
    "\r\n",
    "\r\n",
    "if __name__ == \"__main__\":\r\n",
    "    main()\r\n"
   ]
  },
  {
   "cell_type": "markdown",
   "id": "43294a84-c4b6-4c24-a9f0-0de83cf2cbff",
   "metadata": {},
   "source": [
    "## `hash_string` Function\n",
    "\n",
    "- Initializes a `RollingHash` object with a specified base and modulo.\n",
    "- Iterates through each character in the input string.\n",
    "- Calls the `append` method of the `RollingHash` object to update the hash value.\n",
    "- Returns the final hash value of the entire string."
   ]
  },
  {
   "cell_type": "code",
   "execution_count": 2,
   "id": "6801d64d-6dbd-48d8-948d-92ef9f4d28b3",
   "metadata": {},
   "outputs": [],
   "source": [
    "def hash_string(input_str, base=256, mod=10**9 + 7):\n",
    "    \"\"\"\n",
    "    Hashes a string using a rolling hash.\n",
    "\n",
    "    :param input_str: Input string to be hashed.\n",
    "    :param base: Base value for the rolling hash.\n",
    "    :param mod: Modulo value for the rolling hash.\n",
    "    :return: Hash value of the string.\n",
    "    \"\"\"\n",
    "    hash_obj = RollingHash(base, mod)\n",
    "    for char in input_str:\n",
    "        hash_obj.append(char)\n",
    "    return hash_obj.get_hash()"
   ]
  },
  {
   "cell_type": "markdown",
   "id": "5c8a3f93-682a-49be-a638-6fb8d12c3567",
   "metadata": {},
   "source": [
    "## `substring_matching` Function\n",
    "\n",
    "- Gets the lengths of the pattern and the text.\n",
    "- If the pattern is longer than the text, immediately returns `False`.\n",
    "- Calculates the hash value of the initial substring of the pattern using the `hash_string` function.\n",
    "- Creates an instance of the `RollingHash` class for rolling hash calculations.\n",
    "- Iterates through each possible substring of the text with the same length as the pattern.\n",
    "- Uses rolling hash to efficiently calculate the hash value of each substring.\n",
    "- Compares the hash value of the current substring with the hash value of the pattern.\n",
    "- If they match, compares the actual substrings.\n",
    "- Returns `True` if a match is found, otherwise returns `False`.\n"
   ]
  },
  {
   "cell_type": "code",
   "execution_count": 3,
   "id": "95430950-66c3-49fd-8618-c6122636a4b1",
   "metadata": {},
   "outputs": [],
   "source": [
    "def substring_matching(text, pattern):\n",
    "    \"\"\"\n",
    "    Checks if a pattern is a substring of the given text using rolling hash.\n",
    "\n",
    "    :param text: The complete text.\n",
    "    :param pattern: The pattern to be searched in the text.\n",
    "    :return: True if pattern is a substring of text, False otherwise.\n",
    "    \"\"\"\n",
    "    pattern_length = len(pattern)\n",
    "    text_length = len(text)\n",
    "\n",
    "    if pattern_length > text_length:\n",
    "        return False\n",
    "\n",
    "    pattern_hash = hash_string(pattern[:pattern_length])\n",
    "    rolling_hash = RollingHash(256, 10**9 + 7)\n",
    "\n",
    "    for i in range(text_length - pattern_length + 1):\n",
    "        if i == 0:\n",
    "            window_hash = hash_string(text[:pattern_length])\n",
    "        else:\n",
    "            rolling_hash.skip(text[i - 1])\n",
    "            rolling_hash.append(text[i + pattern_length - 1])\n",
    "            window_hash = rolling_hash.get_hash()\n",
    "\n",
    "        if window_hash == pattern_hash and text[i:i + pattern_length] == pattern:\n",
    "            return True\n",
    "\n",
    "    return False"
   ]
  },
  {
   "cell_type": "markdown",
   "id": "8c297b53-9b0b-42ba-a108-30e02fcd4eef",
   "metadata": {},
   "source": [
    "## `plagiarism_detection` Function\n",
    "\n",
    "- Creates a list of tuples, each containing the index of a document and its hash value.\n",
    "- Sorts the list of tuples based on hash values.\n",
    "- Iterates through the sorted list to find pairs of documents with the same hash value.\n",
    "- Adds the indices of such documents to the `similar_pairs` list.\n",
    "- Returns a list of tuples representing pairs of documents with similar content."
   ]
  },
  {
   "cell_type": "code",
   "execution_count": 4,
   "id": "f2b6c7b6-9087-42b3-b05f-768366e2d144",
   "metadata": {},
   "outputs": [],
   "source": [
    "def plagiarism_detection(documents):\n",
    "    document_hashes = [(i, hash_string(doc)) for i, doc in enumerate(documents)]\n",
    "    document_hashes.sort(key=lambda x: x[1])\n",
    "\n",
    "    similar_pairs = []\n",
    "\n",
    "    for i in range(1, len(document_hashes)):\n",
    "        if document_hashes[i][1] == document_hashes[i - 1][1]:\n",
    "            similar_pairs.append((document_hashes[i - 1][0], document_hashes[i][0]))\n",
    "\n",
    "    return similar_pairs\n",
    "\n",
    "\n"
   ]
  },
  {
   "cell_type": "markdown",
   "id": "a0341b34-beee-4e02-ac8c-cf05467d274c",
   "metadata": {},
   "source": [
    "## Test Functions\n",
    "\n",
    "### Test `RollingHash` Class:\n",
    "\n",
    "- Creates a `RollingHash` object, appends characters to it, and prints the final hash value."
   ]
  },
  {
   "cell_type": "code",
   "execution_count": 5,
   "id": "00d784aa-9801-4ca2-896c-de3b36dfd647",
   "metadata": {},
   "outputs": [
    {
     "name": "stdout",
     "output_type": "stream",
     "text": [
      "262505719\n"
     ]
    }
   ],
   "source": [
    "# Test Cases\n",
    "\n",
    "rolling_hash = RollingHash(256, 10**9 + 7)\n",
    "for char in \"abcde\":\n",
    "    rolling_hash.append(char)\n",
    "print(rolling_hash.get_hash())  # Expected output: The hash value of \"abcde\"\n",
    "\n",
    "\n"
   ]
  },
  {
   "cell_type": "markdown",
   "id": "bda13e0a-dfa9-42eb-9579-453891d6febc",
   "metadata": {},
   "source": [
    "### Test `substring_matching` Function:\n",
    "\n",
    "- Tests if the `substring_matching` function correctly identifies whether a pattern is a substring of the given text.\n"
   ]
  },
  {
   "cell_type": "code",
   "execution_count": 6,
   "id": "53616f25-9720-48ba-ad03-7c20d0a84ef5",
   "metadata": {},
   "outputs": [
    {
     "name": "stdout",
     "output_type": "stream",
     "text": [
      "False\n",
      "False\n"
     ]
    }
   ],
   "source": [
    "text = \"ababcababcabc\"\n",
    "pattern1 = \"abc\"\n",
    "pattern2 = \"xyz\"\n",
    "print(substring_matching(text, pattern1))  # Expected output: True\n",
    "print(substring_matching(text, pattern2))  # Expected output: False\n"
   ]
  },
  {
   "cell_type": "markdown",
   "id": "530b80a7-4a63-4419-aed1-52cdeba91838",
   "metadata": {},
   "source": [
    "### Test `plagiarism_detection` Function:\n",
    "\n",
    "- Tests if the `plagiarism_detection` function correctly identifies pairs of documents with similar content.\n"
   ]
  },
  {
   "cell_type": "code",
   "execution_count": 7,
   "id": "0e8f8733-56c8-452f-8e18-a40f38995589",
   "metadata": {},
   "outputs": [
    {
     "name": "stdout",
     "output_type": "stream",
     "text": [
      "[]\n"
     ]
    }
   ],
   "source": [
    "documents = [\"This is a sample document.\",\n",
    "             \"Sample document for testing plagiarism.\",\n",
    "             \"Another document with similar content.\"]\n",
    "result = plagiarism_detection(documents)\n",
    "print(result)  # Expected output: List of tuples representing pairs of documents with similar content\n"
   ]
  },
  {
   "cell_type": "code",
   "execution_count": null,
   "id": "307b51e4-5876-44bd-9151-d04cbc3fd97a",
   "metadata": {},
   "outputs": [],
   "source": []
  },
  {
   "cell_type": "code",
   "execution_count": null,
   "id": "5ce7c2a1-16a1-4e8a-a2fa-8df4f4e04561",
   "metadata": {},
   "outputs": [],
   "source": []
  }
 ],
 "metadata": {
  "kernelspec": {
   "display_name": "Python 3 (ipykernel)",
   "language": "python",
   "name": "python3"
  },
  "language_info": {
   "codemirror_mode": {
    "name": "ipython",
    "version": 3
   },
   "file_extension": ".py",
   "mimetype": "text/x-python",
   "name": "python",
   "nbconvert_exporter": "python",
   "pygments_lexer": "ipython3",
   "version": "3.10.6"
  }
 },
 "nbformat": 4,
 "nbformat_minor": 5
}
