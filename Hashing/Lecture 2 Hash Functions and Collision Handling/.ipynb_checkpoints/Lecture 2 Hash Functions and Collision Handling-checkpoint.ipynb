{
 "cells": [
  {
   "cell_type": "markdown",
   "id": "a4d384b0-f1b7-4d94-a5a1-d5158b43b5f2",
   "metadata": {},
   "source": [
    "<h1 align='center'>Lecture 2: Hash Functions and Collision Handling </h1>"
   ]
  },
  {
   "cell_type": "markdown",
   "id": "b1e9d9e3-38a5-4940-929e-1fa28a183157",
   "metadata": {},
   "source": [
    "### Introduction\n",
    "In this lecture, we will delve deeper into the intricacies of hash functions and explore various techniques for handling collisions. Understanding the properties of good hash functions and implementing effective collision resolution methods is crucial for building robust and efficient hash tables."
   ]
  },
  {
   "cell_type": "markdown",
   "id": "8fd5e8dc-6d2d-4102-80ca-b2342913c6f6",
   "metadata": {},
   "source": [
    "# Properties of Good Hash Functions\r\n",
    "\r\n",
    "A good hash function exhibits certain properties that contribute to the effectiveness of a hash table. These properties include:\r\n",
    "\r\n",
    "1. **Deterministic:** The same input should always produce the same hash value.\r\n",
    "\r\n",
    "2. **Efficient:** The hash function should be computationally efficient to calculate.\r\n",
    "\r\n",
    "3. **Uniform Distribution:** Ideally, hash values should be uniformly distributed across the hash table to minimize collisions.\r\n",
    "\r\n",
    "4. **Avalanche Effect:** A small change in the input should result in a substantially different hash value.\r\n",
    "\r\n",
    "5. **Pre-image Resistance:** It should be computationally infeasible to reverse the hash function to obtain the original input.\r\n"
   ]
  },
  {
   "cell_type": "markdown",
   "id": "57ba5dcb-a860-487b-8b37-5abe697040b3",
   "metadata": {},
   "source": [
    "### 1. Deterministic\n",
    "A deterministic hash function ensures that the same input will consistently produce the same hash value. This property is crucial for the reliability of hash tables. In Python, a simple example of a deterministic hash function for strings could be:"
   ]
  },
  {
   "cell_type": "code",
   "execution_count": 2,
   "id": "6cdec111-2954-4259-bd29-2ec8461c6fca",
   "metadata": {},
   "outputs": [],
   "source": [
    "def hash_function(input_str):\n",
    "    return hash(input_str)"
   ]
  },
  {
   "cell_type": "markdown",
   "id": "09e6b39a-11f2-4b06-86f9-f55a9c878c8b",
   "metadata": {},
   "source": [
    "### 2. Efficient\r\n",
    "Efficiency is a key consideration for hash functions, especially when dealing with large datasets. The hash function should be fast and not introduce significant computational overhead. For instance, a basic hash function for integers might look like:"
   ]
  },
  {
   "cell_type": "code",
   "execution_count": 25,
   "id": "576db54c-4b7b-4689-9d8a-2440d5d3d289",
   "metadata": {},
   "outputs": [],
   "source": [
    "def hash_function(num):\n",
    "    return num % 10  # Assuming a hash table size of 10 for simplicity"
   ]
  },
  {
   "cell_type": "markdown",
   "id": "b6f1e340-815f-4ca6-9e6f-17c478049556",
   "metadata": {},
   "source": [
    "### 3. Uniform Distribution\n",
    "Achieving a uniform distribution of hash values across the hash table helps minimize collisions. This is important for the balanced performance of the hash table. A more sophisticated hash function for strings that attempts to achieve uniform distribution could be:"
   ]
  },
  {
   "cell_type": "code",
   "execution_count": 26,
   "id": "3fee3895-c4e4-467b-9f81-3ec4b18d7eb5",
   "metadata": {},
   "outputs": [],
   "source": [
    "def hash_function(input_str):\n",
    "    hash_value = 0\n",
    "    for char in input_str:\n",
    "        hash_value = (hash_value * 31 + ord(char)) % 101  # Using a prime number for better distribution\n",
    "    return hash_value"
   ]
  },
  {
   "cell_type": "markdown",
   "id": "87185331-8761-4e8b-90cf-0633457e6ab2",
   "metadata": {},
   "source": [
    "### 4. Avalanche Effect\r\n",
    "The avalanche effect ensures that a small change in the input should lead to a drastically different hash value. This property helps in spreading out data more evenly. An example of achieving avalanche effect in a hash function could be:"
   ]
  },
  {
   "cell_type": "code",
   "execution_count": 3,
   "id": "8e927a65-5352-4f90-b62f-28e0087a00e0",
   "metadata": {},
   "outputs": [],
   "source": [
    "def hash_function(input_str):\n",
    "    hash_value = 0\n",
    "    for char in input_str:\n",
    "        hash_value = (hash_value * 33) ^ ord(char)  # Using bitwise XOR for avalanche effect\n",
    "    return hash_value"
   ]
  },
  {
   "cell_type": "markdown",
   "id": "9cf58052-4d89-4d6c-a8b9-3f57f941b590",
   "metadata": {},
   "source": [
    "### 5. Pre-image Resistance\r\n",
    "Pre-image resistance implies that it should be computationally infeasible to reverse the hash function and obtain the original input. Achieving strong pre-image resistance often involves using cryptographic hash functions. In Python, you might use a library like hashlib:"
   ]
  },
  {
   "cell_type": "code",
   "execution_count": 28,
   "id": "14778141-732d-4acd-93ca-5af3bf1cfc8e",
   "metadata": {},
   "outputs": [],
   "source": [
    "import hashlib\n",
    "\n",
    "def hash_function(input_str):\n",
    "    return hashlib.sha256(input_str.encode()).hexdigest()\n"
   ]
  },
  {
   "cell_type": "markdown",
   "id": "bb5fc429-804a-49cd-b331-d6b76904d943",
   "metadata": {},
   "source": [
    "These properties collectively contribute to the effectiveness and security of hash functions used in hash tables. It's important to tailor the choice of a hash function based on the specific requirements and characteristics of the data being stored."
   ]
  },
  {
   "cell_type": "code",
   "execution_count": 1,
   "id": "11395a57-d099-42ab-95ad-b5e7960b0540",
   "metadata": {},
   "outputs": [],
   "source": [
    "class HashTableChaining:\n",
    "    def __init__(self, size):\n",
    "        self.size = size\n",
    "        self.table = [None] * size\n",
    "\n",
    "    def hash_function(self, key):\n",
    "        return hash(key) % self.size\n",
    "\n",
    "    def insert(self, key, value):\n",
    "        index = self.hash_function(key)\n",
    "        if self.table[index] is None:\n",
    "            self.table[index] = [(key, value)]\n",
    "        else:\n",
    "            self.table[index].append((key, value))\n",
    "\n",
    "    def search(self, key):\n",
    "        index = self.hash_function(key)\n",
    "        if self.table[index] is not None:\n",
    "            for k, v in self.table[index]:\n",
    "                if k == key:\n",
    "                    return v\n",
    "        return None\n"
   ]
  },
  {
   "cell_type": "markdown",
   "id": "d898d9ff-3072-40c1-b4a8-15a75d36014c",
   "metadata": {},
   "source": []
  },
  {
   "cell_type": "code",
   "execution_count": 5,
   "id": "ae8e4096-5915-4271-8c4e-19e0aecaea52",
   "metadata": {},
   "outputs": [
    {
     "name": "stdout",
     "output_type": "stream",
     "text": [
      "Testing HashTableChaining:\n",
      "5\n",
      "8\n"
     ]
    }
   ],
   "source": [
    "\n",
    "print(\"Testing HashTableChaining:\")\n",
    "hash_table_chaining = HashTableChaining(size=10)\n",
    "\n",
    "hash_table_chaining.insert(\"apple\", 5)\n",
    "hash_table_chaining.insert(\"banana\", 8)\n",
    "\n",
    "print(hash_table_chaining.search(\"apple\"))\n",
    "print(hash_table_chaining.search(\"banana\"))\n"
   ]
  },
  {
   "cell_type": "markdown",
   "id": "0539e7d8-2b0a-426c-82a9-d55a21f0a873",
   "metadata": {},
   "source": [
    "### Linear Probing"
   ]
  },
  {
   "cell_type": "code",
   "execution_count": 7,
   "id": "a5707a0a-5dd1-4a3d-b9a2-68121d12f8a0",
   "metadata": {},
   "outputs": [],
   "source": [
    "class HashTableLinearProbing:\n",
    "    def __init__(self, size):\n",
    "        self.size = size\n",
    "        self.table = [None] * size\n",
    "\n",
    "    def hash_function(self, key):\n",
    "        return hash(key) % self.size\n",
    "\n",
    "    def insert(self, key, value):\n",
    "        index = self.hash_function(key)\n",
    "        while self.table[index] is not None:\n",
    "            index = (index + 1) % self.size\n",
    "        self.table[index] = (key, value)\n",
    "\n",
    "    def search(self, key):\n",
    "        index = self.hash_function(key)\n",
    "        i = 0\n",
    "        while self.table[index] is not None and self.table[index][0] != key:\n",
    "            index = (index + i**2) % self.size\n",
    "            i += 1\n",
    "        if self.table[index] is not None and self.table[index][0] == key:\n",
    "            return self.table[index][1]\n",
    "        return None\n"
   ]
  },
  {
   "cell_type": "code",
   "execution_count": 8,
   "id": "2f4b37fd-244b-49d4-aa1d-19ae63914cfe",
   "metadata": {},
   "outputs": [
    {
     "name": "stdout",
     "output_type": "stream",
     "text": [
      "Testing HashTableLinearProbing:\n",
      "5\n",
      "8\n"
     ]
    }
   ],
   "source": [
    "print(\"Testing HashTableLinearProbing:\")\n",
    "hash_table_linear_probing = HashTableLinearProbing(size=10)\n",
    "\n",
    "hash_table_linear_probing.insert(\"apple\", 5)\n",
    "hash_table_linear_probing.insert(\"banana\", 8)\n",
    "\n",
    "print(hash_table_linear_probing.search(\"apple\"))\n",
    "print(hash_table_linear_probing.search(\"banana\"))\n"
   ]
  },
  {
   "cell_type": "markdown",
   "id": "4b84c47a-c3eb-4678-84ec-76dca31b7373",
   "metadata": {},
   "source": [
    "### Quadratic Probing"
   ]
  },
  {
   "cell_type": "code",
   "execution_count": 9,
   "id": "c4c3b769-7580-40a5-aec9-3e6370b023c6",
   "metadata": {},
   "outputs": [],
   "source": [
    "class HashTableQuadraticProbing:\n",
    "    def __init__(self, size):\n",
    "        self.size = size\n",
    "        self.table = [None] * size\n",
    "\n",
    "    def hash_function(self, key):\n",
    "        return hash(key) % self.size\n",
    "\n",
    "    def insert(self, key, value):\n",
    "        index = self.hash_function(key)\n",
    "        i = 1\n",
    "        while self.table[index] is not None:\n",
    "            index = (index + i**2) % self.size\n",
    "            i += 1\n",
    "        self.table[index] = (key, value)\n",
    "\n",
    "    def search(self, key):\n",
    "        index = self.hash_function(key)\n",
    "        i = 0\n",
    "        while self.table[index] is not None and self.table[index][0] != key:\n",
    "            index = (index + i**2) % self.size\n",
    "            i += 1\n",
    "        if self.table[index] is not None and self.table[index][0] == key:\n",
    "            return self.table[index][1]\n",
    "        return None\n"
   ]
  },
  {
   "cell_type": "code",
   "execution_count": 10,
   "id": "41f34c72-37ea-4643-89ec-0fcc51880b4a",
   "metadata": {},
   "outputs": [
    {
     "name": "stdout",
     "output_type": "stream",
     "text": [
      "Testing HashTableQuadraticProbing:\n",
      "5\n",
      "8\n"
     ]
    }
   ],
   "source": [
    "print(\"Testing HashTableQuadraticProbing:\")\n",
    "hash_table_quadratic_probing = HashTableQuadraticProbing(size=10)\n",
    "\n",
    "hash_table_quadratic_probing.insert(\"apple\", 5)\n",
    "hash_table_quadratic_probing.insert(\"banana\", 8)\n",
    "\n",
    "print(hash_table_quadratic_probing.search(\"apple\"))\n",
    "print(hash_table_quadratic_probing.search(\"banana\"))"
   ]
  },
  {
   "cell_type": "markdown",
   "id": "3c76cd73-fd8d-4f7b-baf4-ec7c4377c349",
   "metadata": {},
   "source": [
    "### Conclusion\n",
    "Understanding the properties of good hash functions and the nuances of collision handling is essential for designing efficient and reliable hash tables. In the next lecture, we have explored more advanced techniques and optimizations in the realm of hashing."
   ]
  }
 ],
 "metadata": {
  "kernelspec": {
   "display_name": "Python 3 (ipykernel)",
   "language": "python",
   "name": "python3"
  },
  "language_info": {
   "codemirror_mode": {
    "name": "ipython",
    "version": 3
   },
   "file_extension": ".py",
   "mimetype": "text/x-python",
   "name": "python",
   "nbconvert_exporter": "python",
   "pygments_lexer": "ipython3",
   "version": "3.10.6"
  }
 },
 "nbformat": 4,
 "nbformat_minor": 5
}
