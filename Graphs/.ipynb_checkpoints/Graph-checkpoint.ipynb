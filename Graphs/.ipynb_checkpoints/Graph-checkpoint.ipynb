{
 "cells": [
  {
   "cell_type": "code",
   "execution_count": 19,
   "id": "2e3fcc3f",
   "metadata": {},
   "outputs": [
    {
     "data": {
      "image/png": "[encoded data removed]",
      "text/plain": [
       "<Figure size 432x288 with 1 Axes>"
      ]
     },
     "metadata": {},
     "output_type": "display_data"
    }
   ],
   "source": [
    "import networkx as nx\n",
    "import matplotlib.pyplot as plt\n",
    "\n",
    "class Graph:\n",
    "    def __init__(self):\n",
    "        self.vertices = []\n",
    "        self.edges = []\n",
    "        self.weights = []\n",
    "\n",
    "    class PreIterator:\n",
    "        def __init__(self, st, gr):\n",
    "            self.stk = [st]\n",
    "            self.grf = gr\n",
    "            self.seen = [False]*len(gr.vertices)\n",
    "\n",
    "        def __next__(self):\n",
    "            if len(self.stk) > 0:\n",
    "                cur = self.stk[-1]\n",
    "                del self.stk[-1]\n",
    "                self.seen[cur] = True\n",
    "                for c in reversed(self.grf.edges[cur]):\n",
    "                    if self.seen[c] == False:\n",
    "                        self.stk.append(c)\n",
    "                return self.grf.vertices[cur]\n",
    "            else:\n",
    "                raise StopIteration\n",
    "\n",
    "    def __iter__(self):\n",
    "        return self.PreIterator(0, self) # 0 is index of starting vertex\n",
    "\n",
    "    def addvertex(self, n):\n",
    "        self.vertices.append(n)\n",
    "        self.edges.append([])\n",
    "        self.weights.append([])\n",
    "\n",
    "    def addedge(self, fr, to, wgt=None):\n",
    "        frinx = self.vertices.index(fr)\n",
    "        toinx = self.vertices.index(to)\n",
    "        self.edges[frinx].append(toinx)\n",
    "        self.weights[frinx].append(wgt)\n",
    "\n",
    "    def Display(self):\n",
    "        seen = [False]*len(self.vertices)\n",
    "        self.DisplayAux(0, 0, seen)\n",
    "        print()\n",
    "\n",
    "    def DisplayAux(self, r, level, seen):\n",
    "        if r != None and seen[r] == False:\n",
    "            seen[r] = True\n",
    "            print(\"    \"*level, self.vertices[r], sep=\"\")\n",
    "            for c in self.edges[r]:\n",
    "                self.DisplayAux(c, level+1, seen)\n",
    "\n",
    "    def traverse_by_queue(self):\n",
    "        seen = [False] * len(self.vertices)\n",
    "        q = [0]\n",
    "        while len(q)!=0:\n",
    "            i = q[0]\n",
    "            q.remove(q[0])\n",
    "            if seen[i]==False:\n",
    "                seen[i]=True\n",
    "                print(self.vertices[i])\n",
    "                for c in self.edges[i]:\n",
    "                    q.append(c)\n",
    "\n",
    "    def visualize_graph(self, display=True):\n",
    "        G = nx.Graph()\n",
    "\n",
    "        for v in self.vertices:\n",
    "            G.add_node(v)\n",
    "\n",
    "        for i, vertex in enumerate(self.vertices):\n",
    "            for j, neighbor in enumerate(self.edges[i]):\n",
    "                G.add_edge(vertex, self.vertices[neighbor], weight=self.weights[i][j])\n",
    "\n",
    "        pos = nx.shell_layout(G)  # Change the layout algorithm to shell_layout\n",
    "        nx.draw(G, pos, with_labels=True, font_weight='bold')\n",
    "        labels = nx.get_edge_attributes(G, 'weight')\n",
    "        nx.draw_networkx_edge_labels(G, pos, edge_labels=labels)\n",
    "\n",
    "        if display:\n",
    "            plt.show()\n",
    "\n",
    "\n",
    "tg = Graph()\n",
    "tg.addvertex(10)\n",
    "tg.addvertex(30)\n",
    "tg.addvertex(80)\n",
    "tg.addvertex(60)\n",
    "tg.addvertex(40)\n",
    "tg.addvertex(20)\n",
    "tg.addvertex(70)\n",
    "tg.addvertex(50)\n",
    "tg.visualize_graph()"
   ]
  },
  {
   "cell_type": "code",
   "execution_count": 20,
   "id": "cbb8fa63-d625-4152-9995-37e25155a44b",
   "metadata": {},
   "outputs": [
    {
     "data": {
      "image/png": "[encoded data removed]",
      "text/plain": [
       "<Figure size 432x288 with 1 Axes>"
      ]
     },
     "metadata": {},
     "output_type": "display_data"
    }
   ],
   "source": [
    "tg.addedge(30, 10, 5)\n",
    "tg.addedge(30, 80, 7)\n",
    "tg.addedge(40, 10, 3)\n",
    "tg.addedge(20, 30, 2)\n",
    "tg.addedge(50, 70, 4)\n",
    "tg.addedge(10, 20, 1)\n",
    "tg.addedge(60, 20, 6)\n",
    "tg.addedge(60, 30, 8)\n",
    "tg.addedge(70, 50, 9)\n",
    "tg.addedge(30, 60, 10)\n",
    "tg.visualize_graph()\n",
    "\n"
   ]
  },
  {
   "cell_type": "code",
   "execution_count": null,
   "id": "56424943",
   "metadata": {},
   "outputs": [],
   "source": []
  },
  {
   "cell_type": "code",
   "execution_count": 21,
   "id": "413c508b",
   "metadata": {},
   "outputs": [
    {
     "name": "stdout",
     "output_type": "stream",
     "text": [
      "10\n",
      "    20\n",
      "        30\n",
      "            80\n",
      "            60\n",
      "\n",
      "traverse_by_queue: \n",
      "\n",
      "\n",
      "\n",
      "10\n",
      "20\n",
      "30\n",
      "80\n",
      "60\n",
      "Display Graph data\n",
      "10\n",
      "    20\n",
      "        30\n",
      "            80\n",
      "            60\n",
      "\n",
      "\n",
      "OUTPUT of 'for d in tg:'\n",
      "10\n",
      "20\n",
      "30\n",
      "80\n",
      "60\n",
      "\n"
     ]
    }
   ],
   "source": [
    "tg.Display()\n",
    "print('traverse_by_queue: \\n\\n\\n')\n",
    "tg.traverse_by_queue()\n",
    "# Display Graph data\n",
    "print(\"Display Graph data\")\n",
    "tg.Display()\n",
    "\n",
    "print()\n",
    "\n",
    "print(\"OUTPUT of 'for d in tg:'\")\n",
    "for d in tg:\n",
    "    print(d)\n",
    "print()\n",
    "\n"
   ]
  },
  {
   "cell_type": "code",
   "execution_count": null,
   "id": "7c52f974-f1a4-465b-bc83-9b942cb4dc3a",
   "metadata": {},
   "outputs": [],
   "source": []
  }
 ],
 "metadata": {
  "kernelspec": {
   "display_name": "Python 3 (ipykernel)",
   "language": "python",
   "name": "python3"
  },
  "language_info": {
   "codemirror_mode": {
    "name": "ipython",
    "version": 3
   },
   "file_extension": ".py",
   "mimetype": "text/x-python",
   "name": "python",
   "nbconvert_exporter": "python",
   "pygments_lexer": "ipython3",
   "version": "3.10.6"
  }
 },
 "nbformat": 4,
 "nbformat_minor": 5
}
