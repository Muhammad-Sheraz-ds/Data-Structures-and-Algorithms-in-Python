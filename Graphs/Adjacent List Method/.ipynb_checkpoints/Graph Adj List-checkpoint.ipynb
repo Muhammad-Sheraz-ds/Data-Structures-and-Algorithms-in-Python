{
 "cells": [
  {
   "cell_type": "code",
   "execution_count": 22,
   "id": "365adbb4",
   "metadata": {},
   "outputs": [],
   "source": [
    "import networkx as nx\n",
    "import matplotlib.pyplot as plt\n",
    "\n",
    "class Graph:\n",
    "    def __init__(self):\n",
    "        self.data = []\n",
    "\n",
    "    class GNode:\n",
    "        def __init__(self, n):\n",
    "            self.label = n\n",
    "            self.adj = []\n",
    "\n",
    "    def add_edge(self, from_loc, to_loc):\n",
    "        self.data[from_loc].adj.append(to_loc)\n",
    "\n",
    "    def explore_network(self, vertex_no, seen):\n",
    "        if not seen[vertex_no]:\n",
    "            seen[vertex_no] = True\n",
    "            print(f\"{self.get_vertex(vertex_no)} visited\")\n",
    "            for adj_vertex in self.data[vertex_no].adj:\n",
    "                self.explore_network(adj_vertex, seen)\n",
    "\n",
    "    def get_vertex(self, vno):\n",
    "        return self.data[vno].label\n",
    "\n",
    "    def add_vertex(self, st):\n",
    "        self.data.append(self.GNode(st))\n",
    "\n",
    "    def find_vertex(self, st):\n",
    "        for j in range(len(self.data)):\n",
    "            if self.data[j].label == st:\n",
    "                return j\n",
    "        return -1\n",
    "\n",
    "    def add_directed_edge(self, from_loc, to_loc):\n",
    "        from_loc = self.find_vertex(from_loc)\n",
    "        to_loc = self.find_vertex(to_loc)\n",
    "        if from_loc == -1 or to_loc == -1:\n",
    "            exit(0)  # exception\n",
    "        self.add_edge(from_loc, to_loc)\n",
    "\n",
    "    def add_undirected_edge(self, from_loc, to_loc):\n",
    "        from_loc = self.find_vertex(from_loc)\n",
    "        to_loc = self.find_vertex(to_loc)\n",
    "        if from_loc == -1 or to_loc == -1:\n",
    "            exit(0)  # exception\n",
    "        self.add_edge(from_loc, to_loc)\n",
    "        self.add_edge(to_loc, from_loc)\n",
    "\n",
    "    def traverse_reachable_graph(self, start=None):\n",
    "        seen = [False] * len(self.data)\n",
    "        if start:\n",
    "            vno = self.find_vertex(start)\n",
    "            if vno == -1:\n",
    "                exit(0)  # exception\n",
    "            self.explore_network(vno, seen)\n",
    "        else:\n",
    "            self.explore_network(0, seen)\n",
    "\n",
    "    def traverse_complete_graph(self):\n",
    "        seen = [False] * len(self.data)\n",
    "        for j in range(len(self.data)):\n",
    "            if not seen[j]:\n",
    "                print(\"starting traversal ...\")\n",
    "                self.explore_network(j, seen)\n",
    "\n",
    "    def visualize_graph(self):\n",
    "        G = nx.Graph()\n",
    "\n",
    "        for node in self.data:\n",
    "            G.add_node(node.label)\n",
    "\n",
    "        for i, node in enumerate(self.data):\n",
    "            for adj_vertex in node.adj:\n",
    "                G.add_edge(node.label, self.data[adj_vertex].label)\n",
    "\n",
    "        pos = nx.spring_layout(G)\n",
    "        nx.draw(G, pos, with_labels=True, font_weight='bold')\n",
    "        plt.show()\n",
    "\n",
    "    def visualize_graph(self):\n",
    "        G = nx.Graph()\n",
    "\n",
    "        for node in self.data:\n",
    "            G.add_node(node.label)\n",
    "\n",
    "        for i, node in enumerate(self.data):\n",
    "            for adj_vertex in node.adj:\n",
    "                G.add_edge(node.label, self.data[adj_vertex].label)\n",
    "\n",
    "        pos = nx.spring_layout(G)\n",
    "\n",
    "        # Draw nodes with custom attributes\n",
    "        nx.draw_networkx_nodes(G, pos, node_size=700, node_color='skyblue', alpha=0.7)\n",
    "\n",
    "        # Draw edges with custom attributes\n",
    "        nx.draw_networkx_edges(G, pos, width=2, edge_color='gray', alpha=0.7)\n",
    "\n",
    "        # Draw labels\n",
    "        nx.draw_networkx_labels(G, pos, font_size=12, font_color='black')\n",
    "\n",
    "        \n",
    "        plt.axis('off')\n",
    "        plt.show()\n",
    "\n",
    "\n"
   ]
  },
  {
   "cell_type": "code",
   "execution_count": 23,
   "id": "fedec90b",
   "metadata": {},
   "outputs": [
    {
     "data": {
      "image/png": "[encoded data removed]",
      "text/plain": [
       "<Figure size 432x288 with 1 Axes>"
      ]
     },
     "metadata": {},
     "output_type": "display_data"
    }
   ],
   "source": [
    "f = Graph()\n",
    "\n",
    "f.add_vertex(\"B\")\n",
    "f.add_vertex(\"R\")\n",
    "f.add_vertex(\"N\")\n",
    "f.add_vertex(\"F\")\n",
    "f.add_vertex(\"A\")\n",
    "f.add_vertex(\"P\")\n",
    "f.add_vertex(\"Y\")\n",
    "\n",
    "f.visualize_graph()\n",
    "\n"
   ]
  },
  {
   "cell_type": "code",
   "execution_count": 24,
   "id": "da2e7a83-a056-411f-8069-628fe3293ff6",
   "metadata": {},
   "outputs": [
    {
     "data": {
      "image/png": "[encoded data removed]",
      "text/plain": [
       "<Figure size 432x288 with 1 Axes>"
      ]
     },
     "metadata": {},
     "output_type": "display_data"
    }
   ],
   "source": [
    "f.add_directed_edge(\"R\", \"N\")\n",
    "f.add_directed_edge(\"B\", \"F\")\n",
    "f.add_directed_edge(\"A\", \"P\")\n",
    "f.add_directed_edge(\"R\", \"A\")\n",
    "f.add_directed_edge(\"P\", \"F\")\n",
    "f.add_directed_edge(\"N\", \"B\")\n",
    "f.add_directed_edge(\"Y\", \"N\")\n",
    "f.add_directed_edge(\"Y\", \"F\")\n",
    "f.add_directed_edge(\"Y\", \"A\")\n",
    "f.add_directed_edge(\"R\", \"B\")\n",
    "\n",
    "f.visualize_graph()"
   ]
  },
  {
   "cell_type": "code",
   "execution_count": 25,
   "id": "a07b6c03",
   "metadata": {},
   "outputs": [
    {
     "name": "stdout",
     "output_type": "stream",
     "text": [
      "\n",
      "Explore Reachable Graph starting from\n",
      "=============\n",
      "Y visited\n",
      "N visited\n",
      "B visited\n",
      "F visited\n",
      "A visited\n",
      "P visited\n",
      "\n",
      "Explore Reachable Graph starting from\n",
      "=============\n",
      "B visited\n",
      "F visited\n",
      "\n",
      "Explore Complete Graph starting from\n",
      "=============\n",
      "starting traversal ...\n",
      "B visited\n",
      "F visited\n",
      "starting traversal ...\n",
      "R visited\n",
      "N visited\n",
      "A visited\n",
      "P visited\n",
      "starting traversal ...\n",
      "Y visited\n"
     ]
    }
   ],
   "source": [
    "print(\"\\nExplore Reachable Graph starting from\")\n",
    "print(\"=============\")\n",
    "f.traverse_reachable_graph(\"Y\")\n",
    "print(\"\\nExplore Reachable Graph starting from\")\n",
    "print(\"=============\")\n",
    "f.traverse_reachable_graph()\n",
    "print(\"\\nExplore Complete Graph starting from\")\n",
    "print(\"=============\")\n",
    "f.traverse_complete_graph()\n"
   ]
  },
  {
   "cell_type": "code",
   "execution_count": null,
   "id": "df9e8731-68a8-4d95-92b1-8c74a694856b",
   "metadata": {},
   "outputs": [],
   "source": []
  }
 ],
 "metadata": {
  "kernelspec": {
   "display_name": "Python 3 (ipykernel)",
   "language": "python",
   "name": "python3"
  },
  "language_info": {
   "codemirror_mode": {
    "name": "ipython",
    "version": 3
   },
   "file_extension": ".py",
   "mimetype": "text/x-python",
   "name": "python",
   "nbconvert_exporter": "python",
   "pygments_lexer": "ipython3",
   "version": "3.10.6"
  }
 },
 "nbformat": 4,
 "nbformat_minor": 5
}
