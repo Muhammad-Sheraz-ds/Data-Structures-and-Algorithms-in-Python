{
 "cells": [
  {
   "cell_type": "markdown",
   "id": "ff457e68-2fa9-4848-bc5e-7ceedac64bf6",
   "metadata": {},
   "source": [
    "# Undirected Graphs\n",
    "\n",
    "In contrast to directed graphs, undirected graphs are a type of graph where edges have no inherent direction. The edges in an undirected graph represent symmetric relationships between vertices, meaning they connect vertices in both directions.\n",
    "\n",
    "In undirected graphs, the relationships are mutual; if there is an edge between vertex A and vertex B, it implies the existence of an edge from B to A. Undirected graphs are often used to model symmetric relationships like friendships in a social network, communication links in a computer network, or connections between locations in a map.\n",
    "\n",
    "Undirected graphs are simpler in structure compared to directed graphs, and they are widely employed in various fields, including computer science, social network analysis, and transportation planning.\n",
    "\n",
    "These two types of graphs, directed and undirected, serve as fundamental representations for modeling relationships and connections in a wide range of applications.\n"
   ]
  },
  {
   "cell_type": "code",
   "execution_count": 5,
   "id": "2525d8d3-cf7b-4b34-a38a-bc7ac2d5f683",
   "metadata": {},
   "outputs": [
    {
     "data": {
      "image/png": "[encoded data removed]",
      "text/plain": [
       "<Figure size 432x288 with 1 Axes>"
      ]
     },
     "metadata": {},
     "output_type": "display_data"
    }
   ],
   "source": [
    "import networkx as nx\n",
    "import matplotlib.pyplot as plt\n",
    "\n",
    "class UndirectedGraph:\n",
    "    def __init__(self, no_of_vertices):\n",
    "        self.no_of_vertices = no_of_vertices\n",
    "        self.adj_matrix = [[0] * no_of_vertices for _ in range(no_of_vertices)]\n",
    "\n",
    "    def add_edge(self, vertex1, vertex2, weight=1):\n",
    "        self.adj_matrix[vertex1][vertex2] = weight\n",
    "        self.adj_matrix[vertex2][vertex1] = weight  # For undirected graph\n",
    "\n",
    "    def remove_edge(self, vertex1, vertex2):\n",
    "        self.adj_matrix[vertex1][vertex2] = 0\n",
    "        self.adj_matrix[vertex2][vertex1] = 0\n",
    "\n",
    "    def display(self):\n",
    "        for row in self.adj_matrix:\n",
    "            print(row)\n",
    "\n",
    "    def add_vertex(self):\n",
    "        self.no_of_vertices += 1\n",
    "        # Add a new row for the new vertex\n",
    "        self.adj_matrix.append([0] * self.no_of_vertices)\n",
    "        # Add a new column for the new vertex in existing rows\n",
    "        for row in self.adj_matrix:\n",
    "            row.append(0)\n",
    "\n",
    "    def remove_vertex(self, vertex):\n",
    "        if vertex < self.no_of_vertices:\n",
    "            del self.adj_matrix[vertex]\n",
    "            self.no_of_vertices -= 1\n",
    "\n",
    "            for row in self.adj_matrix:\n",
    "                del row[vertex]\n",
    "\n",
    "    def get_neighbors(self, vertex):\n",
    "        if vertex < self.no_of_vertices:\n",
    "            return [index for index, weight in enumerate(self.adj_matrix[vertex]) if weight > 0]\n",
    "        else:\n",
    "            return []\n",
    "\n",
    "    def has_edge(self, vertex1, vertex2):\n",
    "        return self.adj_matrix[vertex1][vertex2] > 0 or self.adj_matrix[vertex2][vertex1] > 0\n",
    "\n",
    "    def graph_size(self):\n",
    "        return self.no_of_vertices, sum(row.count(1) for row in self.adj_matrix)\n",
    "\n",
    "    def clear_graph(self):\n",
    "        self.no_of_vertices = 0\n",
    "        self.adj_matrix = []\n",
    "\n",
    "    def visualize_graph(self):\n",
    "        G = nx.Graph()\n",
    "\n",
    "        for i in range(self.no_of_vertices):\n",
    "            G.add_node(i)\n",
    "\n",
    "        for i in range(self.no_of_vertices):\n",
    "            for j in range(i + 1, self.no_of_vertices):\n",
    "                if self.adj_matrix[i][j] > 0:\n",
    "                    G.add_edge(i, j, weight=self.adj_matrix[i][j])\n",
    "\n",
    "        pos = nx.spring_layout(G)\n",
    "\n",
    "        # Draw nodes with custom attributes\n",
    "        nx.draw_networkx_nodes(G, pos, node_size=700, node_color='skyblue', alpha=0.7)\n",
    "\n",
    "        # Draw edges with custom attributes\n",
    "        nx.draw_networkx_edges(G, pos, width=2, edge_color='gray', alpha=0.7)\n",
    "\n",
    "        # Draw labels\n",
    "        nx.draw_networkx_labels(G, pos, font_size=12, font_color='black')\n",
    "\n",
    "        # Draw edge labels\n",
    "        edge_labels = {(i, j): self.adj_matrix[i][j] for i in range(self.no_of_vertices) for j in range(i + 1, self.no_of_vertices) if self.adj_matrix[i][j] > 0}\n",
    "        nx.draw_networkx_edge_labels(G, pos, edge_labels=edge_labels)\n",
    "\n",
    "        # Display the graph\n",
    "        plt.title(\"Undirected Graph Visualization\")\n",
    "        plt.axis('off')\n",
    "        plt.show()\n",
    "\n",
    "# Example usage\n",
    "if __name__ == \"__main__\":\n",
    "    g = UndirectedGraph(3)\n",
    "    g.add_edge(0, 1, 5)\n",
    "    g.add_edge(1, 2, 3)\n",
    "\n",
    "    g.visualize_graph()\n"
   ]
  },
  {
   "cell_type": "code",
   "execution_count": 6,
   "id": "93c1bc88-0d14-48b5-be60-e35cd9b25d7c",
   "metadata": {},
   "outputs": [],
   "source": [
    "graph = UndirectedGraph(5)"
   ]
  },
  {
   "cell_type": "code",
   "execution_count": 7,
   "id": "ddf3c951-2efa-4a53-b2c8-4753b01342f1",
   "metadata": {},
   "outputs": [
    {
     "data": {
      "image/png": "[encoded data removed]",
      "text/plain": [
       "<Figure size 432x288 with 1 Axes>"
      ]
     },
     "metadata": {},
     "output_type": "display_data"
    }
   ],
   "source": [
    "graph.add_edge(0, 1, 2)\n",
    "graph.add_edge(0, 2, 1)\n",
    "graph.add_edge(1, 3, 3)\n",
    "graph.add_edge(2, 3, 2)\n",
    "graph.add_edge(3, 4, 1)\n",
    "graph.visualize_graph()\n"
   ]
  },
  {
   "cell_type": "code",
   "execution_count": 8,
   "id": "34cf6892-e820-4020-be08-bb2db28bba99",
   "metadata": {},
   "outputs": [
    {
     "name": "stdout",
     "output_type": "stream",
     "text": [
      "Undirected Graph:\n",
      "[0, 2, 1, 0, 0]\n",
      "[2, 0, 0, 3, 0]\n",
      "[1, 0, 0, 2, 0]\n",
      "[0, 3, 2, 0, 1]\n",
      "[0, 0, 0, 1, 0]\n"
     ]
    }
   ],
   "source": [
    "print(\"Undirected Graph:\")\n",
    "graph.display()"
   ]
  },
  {
   "cell_type": "code",
   "execution_count": 9,
   "id": "1b29be66-e589-47b0-860b-6385eed7c6f0",
   "metadata": {},
   "outputs": [
    {
     "name": "stdout",
     "output_type": "stream",
     "text": [
      "\n",
      "Undirected Graph after removing edge (1, 3):\n"
     ]
    },
    {
     "data": {
      "image/png": "[encoded data removed]",
      "text/plain": [
       "<Figure size 432x288 with 1 Axes>"
      ]
     },
     "metadata": {},
     "output_type": "display_data"
    }
   ],
   "source": [
    "graph.remove_edge(1, 3)\n",
    "print(\"\\nUndirected Graph after removing edge (1, 3):\")\n",
    "\n",
    "graph.visualize_graph()\n"
   ]
  },
  {
   "cell_type": "code",
   "execution_count": 10,
   "id": "6279eb8d-602e-4043-889e-8cc4b8a94f54",
   "metadata": {},
   "outputs": [
    {
     "name": "stdout",
     "output_type": "stream",
     "text": [
      "\n",
      "Undirected Graph after removing edge (1, 3):\n",
      "[0, 2, 1, 0, 0]\n",
      "[2, 0, 0, 0, 0]\n",
      "[1, 0, 0, 2, 0]\n",
      "[0, 0, 2, 0, 1]\n",
      "[0, 0, 0, 1, 0]\n"
     ]
    }
   ],
   "source": [
    "\n",
    "print(\"\\nUndirected Graph after removing edge (1, 3):\")\n",
    "graph.display()"
   ]
  },
  {
   "cell_type": "code",
   "execution_count": 11,
   "id": "c39ec39b-d0fe-431e-9ba1-54d80adc5ed5",
   "metadata": {},
   "outputs": [
    {
     "name": "stdout",
     "output_type": "stream",
     "text": [
      "Undirected Graph after adding a vertex:\n"
     ]
    },
    {
     "data": {
      "image/png": "[encoded data removed]",
      "text/plain": [
       "<Figure size 432x288 with 1 Axes>"
      ]
     },
     "metadata": {},
     "output_type": "display_data"
    }
   ],
   "source": [
    "graph.add_vertex()\n",
    "print(\"Undirected Graph after adding a vertex:\")\n",
    "graph.visualize_graph()\n",
    "\n"
   ]
  },
  {
   "cell_type": "code",
   "execution_count": 12,
   "id": "142f012c-5b19-4671-a671-f43f9c87a01a",
   "metadata": {},
   "outputs": [
    {
     "name": "stdout",
     "output_type": "stream",
     "text": [
      "\n",
      "Undirected Graph after adding a vertex:\n",
      "[0, 2, 1, 0, 0, 0]\n",
      "[2, 0, 0, 0, 0, 0]\n",
      "[1, 0, 0, 2, 0, 0]\n",
      "[0, 0, 2, 0, 1, 0]\n",
      "[0, 0, 0, 1, 0, 0]\n",
      "[0, 0, 0, 0, 0, 0, 0]\n"
     ]
    }
   ],
   "source": [
    "print(\"\\nUndirected Graph after adding a vertex:\")\n",
    "graph.display()"
   ]
  },
  {
   "cell_type": "code",
   "execution_count": 13,
   "id": "d8e1a783-d7c0-442b-ba41-2b3736e66184",
   "metadata": {},
   "outputs": [
    {
     "name": "stdout",
     "output_type": "stream",
     "text": [
      "Undirected Graph after removing vertex 1:\n"
     ]
    },
    {
     "data": {
      "image/png": "[encoded data removed]",
      "text/plain": [
       "<Figure size 432x288 with 1 Axes>"
      ]
     },
     "metadata": {},
     "output_type": "display_data"
    }
   ],
   "source": [
    "graph.remove_vertex(1)\n",
    "print(\"Undirected Graph after removing vertex 1:\")\n",
    "graph.visualize_graph()\n",
    "\n"
   ]
  },
  {
   "cell_type": "code",
   "execution_count": 14,
   "id": "2c7aca59-146e-467c-95c9-d044612f5dfa",
   "metadata": {},
   "outputs": [
    {
     "name": "stdout",
     "output_type": "stream",
     "text": [
      "\n",
      "Undirected Graph after removing vertex 1:\n",
      "[0, 1, 0, 0, 0]\n",
      "[1, 0, 2, 0, 0]\n",
      "[0, 2, 0, 1, 0]\n",
      "[0, 0, 1, 0, 0]\n",
      "[0, 0, 0, 0, 0, 0]\n"
     ]
    }
   ],
   "source": [
    "print(\"\\nUndirected Graph after removing vertex 1:\")\n",
    "graph.display()"
   ]
  },
  {
   "cell_type": "code",
   "execution_count": 15,
   "id": "cde71770-2e32-4444-96ea-20452decdd90",
   "metadata": {},
   "outputs": [
    {
     "name": "stdout",
     "output_type": "stream",
     "text": [
      "\n",
      "Neighbors of vertex 0: [1]\n"
     ]
    }
   ],
   "source": [
    "neighbors = graph.get_neighbors(0)\n",
    "print(\"\\nNeighbors of vertex 0:\", neighbors)"
   ]
  },
  {
   "cell_type": "code",
   "execution_count": 16,
   "id": "6a4b61b7-1881-432d-b63a-9c0a8ca33a56",
   "metadata": {},
   "outputs": [
    {
     "name": "stdout",
     "output_type": "stream",
     "text": [
      "\n",
      "Does edge (0, 2) exist? False\n"
     ]
    }
   ],
   "source": [
    "has_edge = graph.has_edge(0, 2)\n",
    "print(\"\\nDoes edge (0, 2) exist?\", has_edge)"
   ]
  },
  {
   "cell_type": "code",
   "execution_count": 17,
   "id": "75cd8bc2-2800-4c49-b7b1-ff28e5bbd82c",
   "metadata": {},
   "outputs": [
    {
     "name": "stdout",
     "output_type": "stream",
     "text": [
      "\n",
      "Graph Size (Vertices, Edges): (5, 4)\n"
     ]
    }
   ],
   "source": [
    "size = graph.graph_size()\n",
    "print(\"\\nGraph Size (Vertices, Edges):\", size)"
   ]
  },
  {
   "cell_type": "code",
   "execution_count": 18,
   "id": "bed90a7d-1cbb-469c-8ea0-f5da0b5fee85",
   "metadata": {},
   "outputs": [
    {
     "data": {
      "image/png": "[encoded data removed]",
      "text/plain": [
       "<Figure size 432x288 with 1 Axes>"
      ]
     },
     "metadata": {},
     "output_type": "display_data"
    }
   ],
   "source": [
    "graph.clear_graph()\n",
    "graph.visualize_graph()\n",
    "\n"
   ]
  },
  {
   "cell_type": "code",
   "execution_count": 19,
   "id": "de72da94-99ed-4ab2-9e79-cfb1de482577",
   "metadata": {},
   "outputs": [
    {
     "name": "stdout",
     "output_type": "stream",
     "text": [
      "\n",
      "Undirected Graph after clearing:\n"
     ]
    }
   ],
   "source": [
    "print(\"\\nUndirected Graph after clearing:\")\n",
    "graph.display()"
   ]
  },
  {
   "cell_type": "code",
   "execution_count": null,
   "id": "065a8892-016f-4aa7-b3da-3cd32017f3bc",
   "metadata": {},
   "outputs": [],
   "source": []
  }
 ],
 "metadata": {
  "kernelspec": {
   "display_name": "Python 3 (ipykernel)",
   "language": "python",
   "name": "python3"
  },
  "language_info": {
   "codemirror_mode": {
    "name": "ipython",
    "version": 3
   },
   "file_extension": ".py",
   "mimetype": "text/x-python",
   "name": "python",
   "nbconvert_exporter": "python",
   "pygments_lexer": "ipython3",
   "version": "3.10.6"
  }
 },
 "nbformat": 4,
 "nbformat_minor": 5
}
