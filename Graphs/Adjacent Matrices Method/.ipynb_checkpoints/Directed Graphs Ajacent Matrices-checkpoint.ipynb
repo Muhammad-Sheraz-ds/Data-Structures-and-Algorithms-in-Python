{
 "cells": [
  {
   "cell_type": "markdown",
   "id": "839ca9fa-309e-4dbf-a062-3f6a66615873",
   "metadata": {},
   "source": [
    "# Directed Graphs\n",
    "\n",
    "Directed graphs, or digraphs, are a type of graph where edges have a direction associated with them. In other words, each edge in a directed graph is an ordered pair of vertices, indicating a one-way relationship between them. This directional nature distinguishes directed graphs from undirected graphs.\n",
    "\n",
    "In a directed graph, vertices (or nodes) are connected by directed edges, which represent the flow or progression from one vertex to another. This directed relationship implies that an edge from vertex A to vertex B does not necessarily imply the existence of an edge from B to A.\n",
    "\n",
    "Directed graphs are used to model various real-world scenarios, such as dependencies between tasks, network flows, web page links, and social relationships with a sense of direction.\n"
   ]
  },
  {
   "cell_type": "code",
   "execution_count": null,
   "id": "5d14c672-55f8-4fb1-a5ce-d4222195e5bf",
   "metadata": {},
   "outputs": [],
   "source": []
  },
  {
   "cell_type": "code",
   "execution_count": 70,
   "id": "483639ea-dabd-4753-836b-3f9b7dd35fa6",
   "metadata": {},
   "outputs": [],
   "source": [
    "class DirectedGraph:\n",
    "    def __init__(self, no_of_vertices):\n",
    "        self.no_of_vertices = no_of_vertices\n",
    "        self.adj_matrix = [[0] * no_of_vertices for _ in range(no_of_vertices)]\n",
    "\n",
    "    def add_edge(self, start, end, weight=1):\n",
    "        self.adj_matrix[start][end] = weight\n",
    "\n",
    "    def remove_edge(self, start, end):\n",
    "        self.adj_matrix[start][end] = 0\n",
    "\n",
    "    def display(self):\n",
    "        for row in self.adj_matrix:\n",
    "            print(row)\n",
    "\n",
    "    def add_vertex(self):\n",
    "        self.no_of_vertices += 1\n",
    "        # Add a new row for the new vertex\n",
    "        self.adj_matrix.append([0] * self.no_of_vertices)\n",
    "        # Add a new column for the new vertex in existing rows\n",
    "        for row in self.adj_matrix:\n",
    "            row.append(0)\n",
    "\n",
    "    def remove_vertex(self, vertex):\n",
    "        if vertex < self.no_of_vertices:\n",
    "            del self.adj_matrix[vertex]\n",
    "            self.no_of_vertices -= 1\n",
    "\n",
    "            for row in self.adj_matrix:\n",
    "                del row[vertex]\n",
    "\n",
    "    def get_neighbors(self, vertex):\n",
    "        if vertex < self.no_of_vertices:\n",
    "            return [index for index, weight in enumerate(self.adj_matrix[vertex]) if weight > 0]\n",
    "        else:\n",
    "            return []\n",
    "\n",
    "    def has_edge(self, start, end):\n",
    "        return self.adj_matrix[start][end] > 0\n",
    "\n",
    "    def graph_size(self):\n",
    "        return self.no_of_vertices, sum(row.count(1) for row in self.adj_matrix)\n",
    "\n",
    "    def clear_graph(self):\n",
    "        self.no_of_vertices = 0\n",
    "        self.adj_matrix = []\n",
    "\n",
    "    def in_degree(self, vertex):\n",
    "        in_degree_count = 0\n",
    "        for i in range(self.no_of_vertices):\n",
    "            in_degree_count += self.adj_matrix[i][vertex]\n",
    "        return in_degree_count\n",
    "\n",
    "    def out_degree(self, vertex):\n",
    "        out_degree_count = 0\n",
    "        for i in range(self.no_of_vertices):\n",
    "            out_degree_count += self.adj_matrix[vertex][i]\n",
    "        return out_degree_count\n"
   ]
  },
  {
   "cell_type": "code",
   "execution_count": 71,
   "id": "58100cfd-be2a-4d7d-8128-79b42c0b7893",
   "metadata": {},
   "outputs": [],
   "source": [
    "graph = DirectedGraph(5)"
   ]
  },
  {
   "cell_type": "code",
   "execution_count": 72,
   "id": "4eb0c220-439f-4c5a-aeed-832a663e418e",
   "metadata": {},
   "outputs": [
    {
     "name": "stdout",
     "output_type": "stream",
     "text": [
      "Directed Graph:\n",
      "[0, 1, 1, 0, 0]\n",
      "[1, 0, 0, 1, 0]\n",
      "[0, 1, 0, 1, 0]\n",
      "[0, 0, 1, 0, 1]\n",
      "[1, 0, 1, 0, 0]\n"
     ]
    }
   ],
   "source": [
    "graph.add_edge(0, 1)\n",
    "graph.add_edge(0, 2)\n",
    "graph.add_edge(1, 3)\n",
    "graph.add_edge(2, 3)\n",
    "graph.add_edge(3, 4)\n",
    "\n",
    "# Adding more edges\n",
    "graph.add_edge(4, 0)\n",
    "graph.add_edge(2, 1)\n",
    "graph.add_edge(4, 2)\n",
    "graph.add_edge(1, 0)\n",
    "graph.add_edge(3, 2)\n",
    "\n",
    "print(\"Directed Graph:\")\n",
    "graph.display()"
   ]
  },
  {
   "cell_type": "code",
   "execution_count": 73,
   "id": "002d4290-251f-46ac-b0f6-9502925d0d0d",
   "metadata": {},
   "outputs": [
    {
     "name": "stdout",
     "output_type": "stream",
     "text": [
      "In-Degree of Vertex 0: 2\n",
      "Out-Degree of Vertex 0: 2\n"
     ]
    }
   ],
   "source": [
    "vertex = 0\n",
    "in_degree = graph.in_degree(vertex)\n",
    "out_degree = graph.out_degree(vertex)\n",
    "\n",
    "print(f'In-Degree of Vertex {vertex}: {in_degree}')\n",
    "print(f'Out-Degree of Vertex {vertex}: {out_degree}')"
   ]
  },
  {
   "cell_type": "code",
   "execution_count": 74,
   "id": "211b51e8-34d1-444b-b434-5d9a50ff23ba",
   "metadata": {},
   "outputs": [
    {
     "name": "stdout",
     "output_type": "stream",
     "text": [
      "\n",
      "Directed Graph after removing edge (1, 3):\n",
      "[0, 1, 1, 0, 0]\n",
      "[1, 0, 0, 0, 0]\n",
      "[0, 1, 0, 1, 0]\n",
      "[0, 0, 1, 0, 1]\n",
      "[1, 0, 1, 0, 0]\n"
     ]
    }
   ],
   "source": [
    "graph.remove_edge(1, 3)\n",
    "\n",
    "print(\"\\nDirected Graph after removing edge (1, 3):\")\n",
    "graph.display()\n"
   ]
  },
  {
   "cell_type": "code",
   "execution_count": 75,
   "id": "42924b20-1dae-4820-aee1-bc9896d197af",
   "metadata": {},
   "outputs": [
    {
     "name": "stdout",
     "output_type": "stream",
     "text": [
      "\n",
      "Directed Graph after adding a vertex:\n",
      "[0, 1, 1, 0, 0, 0]\n",
      "[1, 0, 0, 0, 0, 0]\n",
      "[0, 1, 0, 1, 0, 0]\n",
      "[0, 0, 1, 0, 1, 0]\n",
      "[1, 0, 1, 0, 0, 0]\n",
      "[0, 0, 0, 0, 0, 0, 0]\n"
     ]
    }
   ],
   "source": [
    "graph.add_vertex()\n",
    "\n",
    "print(\"\\nDirected Graph after adding a vertex:\")\n",
    "graph.display()"
   ]
  },
  {
   "cell_type": "code",
   "execution_count": 76,
   "id": "6ec08462-1653-4475-aab3-77aae9210643",
   "metadata": {},
   "outputs": [
    {
     "name": "stdout",
     "output_type": "stream",
     "text": [
      "\n",
      "Directed Graph after removing vertex 1:\n",
      "[0, 1, 0, 0, 0]\n",
      "[0, 0, 1, 0, 0]\n",
      "[0, 1, 0, 1, 0]\n",
      "[1, 1, 0, 0, 0]\n",
      "[0, 0, 0, 0, 0, 0]\n"
     ]
    }
   ],
   "source": [
    "graph.remove_vertex(1)\n",
    "\n",
    "print(\"\\nDirected Graph after removing vertex 1:\")\n",
    "graph.display()\n"
   ]
  },
  {
   "cell_type": "code",
   "execution_count": 77,
   "id": "8d7ae565-d5d4-4143-9faa-f880ed1e7b70",
   "metadata": {},
   "outputs": [
    {
     "name": "stdout",
     "output_type": "stream",
     "text": [
      "\n",
      "Neighbors of vertex 0: [1]\n"
     ]
    }
   ],
   "source": [
    "neighbors = graph.get_neighbors(0)\n",
    "print(\"\\nNeighbors of vertex 0:\", neighbors)"
   ]
  },
  {
   "cell_type": "code",
   "execution_count": 78,
   "id": "1c20d315-b99b-48e5-984c-f12b65347f9d",
   "metadata": {},
   "outputs": [
    {
     "name": "stdout",
     "output_type": "stream",
     "text": [
      "\n",
      "Does edge (0, 2) exist? False\n"
     ]
    }
   ],
   "source": [
    "has_edge = graph.has_edge(0, 2)\n",
    "print(\"\\nDoes edge (0, 2) exist?\", has_edge)\n"
   ]
  },
  {
   "cell_type": "code",
   "execution_count": 79,
   "id": "54a286fa-e389-472f-a489-74a08906c45d",
   "metadata": {},
   "outputs": [
    {
     "name": "stdout",
     "output_type": "stream",
     "text": [
      "\n",
      "Graph Size (Vertices, Edges): (5, 6)\n"
     ]
    }
   ],
   "source": [
    "size = graph.graph_size()\n",
    "print(\"\\nGraph Size (Vertices, Edges):\", size)\n",
    "\n",
    "graph.clear_graph()"
   ]
  },
  {
   "cell_type": "code",
   "execution_count": null,
   "id": "6b654b5a-d8bd-433c-8455-54dab63cc151",
   "metadata": {},
   "outputs": [],
   "source": []
  },
  {
   "cell_type": "code",
   "execution_count": 80,
   "id": "949100d1-c70a-43f9-b88b-3ec4340ab86c",
   "metadata": {},
   "outputs": [
    {
     "name": "stdout",
     "output_type": "stream",
     "text": [
      "\n",
      "Directed Graph after clearing:\n"
     ]
    }
   ],
   "source": [
    "print(\"\\nDirected Graph after clearing:\")\n",
    "graph.display()\n"
   ]
  },
  {
   "cell_type": "code",
   "execution_count": null,
   "id": "ab15b137-e360-4fef-9445-f5dac0b69bbb",
   "metadata": {},
   "outputs": [],
   "source": []
  }
 ],
 "metadata": {
  "kernelspec": {
   "display_name": "Python 3 (ipykernel)",
   "language": "python",
   "name": "python3"
  },
  "language_info": {
   "codemirror_mode": {
    "name": "ipython",
    "version": 3
   },
   "file_extension": ".py",
   "mimetype": "text/x-python",
   "name": "python",
   "nbconvert_exporter": "python",
   "pygments_lexer": "ipython3",
   "version": "3.10.6"
  }
 },
 "nbformat": 4,
 "nbformat_minor": 5
}
