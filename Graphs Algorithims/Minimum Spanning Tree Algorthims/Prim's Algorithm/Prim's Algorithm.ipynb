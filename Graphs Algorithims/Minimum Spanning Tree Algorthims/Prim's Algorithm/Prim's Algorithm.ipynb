{
 "cells": [
  {
   "cell_type": "code",
   "execution_count": 89,
   "id": "daf2c27b-3b7f-4eb0-812c-007a3ffda55c",
   "metadata": {},
   "outputs": [],
   "source": [
    "import heapq\n",
    "import networkx as nx\n",
    "import matplotlib.pyplot as plt\n",
    "\n",
    "class Graph:\n",
    "    def __init__(self):\n",
    "        self.vertices = set()\n",
    "        self.edges = []\n",
    "        self.adjacency_list = {}\n",
    "\n",
    "    def add_vertex(self, vertex):\n",
    "        self.vertices.add(vertex)\n",
    "        self.adjacency_list[vertex] = []\n",
    "\n",
    "    def add_edge(self, start, end, weight):\n",
    "        self.edges.append((weight, start, end))\n",
    "        \n",
    "        if end not in self.adjacency_list[start]:\n",
    "            self.adjacency_list[start].append((end, weight))\n",
    "            \n",
    "        if start not in self.adjacency_list[end]:\n",
    "            self.adjacency_list[end].append((start, weight))\n",
    "\n",
    "\n",
    "    def Display(self):\n",
    "        G = nx.Graph()\n",
    "        G.add_nodes_from(self.vertices)\n",
    "    \n",
    "        for edge in self.edges:\n",
    "            G.add_edge(edge[1], edge[2], weight=edge[0])\n",
    "    \n",
    "        pos = nx.spring_layout(G)\n",
    "        nx.draw(G, pos, with_labels=True, font_weight='bold', node_size=700, node_color='skyblue',\n",
    "                font_color='black', font_size=10, font_family='sans-serif', edge_color='gray', width=1, edge_cmap=plt.cm.Blues)\n",
    "    \n",
    "        labels = nx.get_edge_attributes(G, 'weight')\n",
    "        nx.draw_networkx_edge_labels(G, pos, edge_labels=labels)\n",
    "    \n",
    "        plt.show()\n",
    "\n",
    "\n",
    "    def Prims_Algorithm(self):\n",
    "        MST = set()\n",
    "        priority_queue = []\n",
    "    \n",
    "        # Choose a starting vertex\n",
    "        start_vertex = next(iter(self.vertices))\n",
    "        MST.add(start_vertex)\n",
    "    \n",
    "        while len(MST) < len(self.vertices):\n",
    "            for neighbor, weight in self.adjacency_list[start_vertex]:\n",
    "                if neighbor not in MST:\n",
    "                    heapq.heappush(priority_queue, (weight, start_vertex, neighbor))\n",
    "\n",
    "            while True:\n",
    "                if not priority_queue:\n",
    "                    # This means the graph is not connected\n",
    "                    return MST\n",
    "    \n",
    "                weight, current_vertex, next_vertex = heapq.heappop(priority_queue)\n",
    "    \n",
    "                if next_vertex not in MST:\n",
    "                    MST.add(next_vertex)\n",
    "                    start_vertex = next_vertex\n",
    "                    break\n",
    "    \n",
    "        return MST\n",
    "\n",
    "    \n",
    "    \n",
    "            \n",
    "    def Display_Prims_Algorithm(self):\n",
    "        MST = set()\n",
    "        priority_queue = []\n",
    "        G = nx.Graph()\n",
    "    \n",
    "        # Choose a starting vertex\n",
    "        start_vertex = next(iter(self.vertices))\n",
    "        MST.add(start_vertex)\n",
    "    \n",
    "        while len(MST) < len(self.vertices):\n",
    "            for neighbor, weight in self.adjacency_list[start_vertex]:\n",
    "                if neighbor not in MST:\n",
    "                    heapq.heappush(priority_queue, (weight, start_vertex, neighbor))\n",
    "    \n",
    "            if priority_queue:\n",
    "                weight, current_vertex, next_vertex = heapq.heappop(priority_queue)\n",
    "    \n",
    "                if next_vertex not in MST:\n",
    "                    MST.add(next_vertex)\n",
    "                    G.add_edge(current_vertex, next_vertex, weight)\n",
    "                    start_vertex = next_vertex\n",
    "\n",
    "        pos = nx.spring_layout(G)\n",
    "        nx.draw(G, pos, with_labels=True, font_weight='bold', node_size=700, node_color='skyblue', font_color='black', font_size=10, font_family='sans-serif', edge_color='gray', width=1, edge_cmap=plt.cm.Blues)\n",
    "        labels = nx.get_edge_attributes(G, 'weight')\n",
    "        nx.draw_networkx_edge_labels(G, pos, edge_labels=labels)\n",
    "        plt.show()\n"
   ]
  },
  {
   "cell_type": "code",
   "execution_count": 90,
   "id": "fc7cba08-7405-4528-b933-8aba6c7588be",
   "metadata": {},
   "outputs": [],
   "source": [
    "# Adding edges\n",
    "edges = [\n",
    "    ('A', 'B', 4),\n",
    "    ('A', 'H', 8),\n",
    "    ('B', 'C', 8),\n",
    "    ('B', 'H', 11),\n",
    "    ('C', 'D', 7),\n",
    "    ('C', 'F', 4),\n",
    "    ('C', 'I', 2),\n",
    "    ('D', 'E', 9),\n",
    "    ('D', 'F', 14),\n",
    "    ('E', 'F', 10),\n",
    "    ('F', 'G', 2),\n",
    "    ('G', 'I', 6),\n",
    "    ('H', 'I', 7)\n",
    "]\n",
    "\n",
    "# Note the change in the way edges are added\n",
    "for edge in edges:\n",
    "    graph.add_edge(edge[0], edge[1], edge[2])\n",
    "    #graph.add_edge(*edge)\n"
   ]
  },
  {
   "cell_type": "markdown",
   "id": "97a178dd-3d7b-4305-b99a-4c4491c6b2c1",
   "metadata": {},
   "source": [
    "### Visualize the initial graph"
   ]
  },
  {
   "cell_type": "code",
   "execution_count": 91,
   "id": "45d49b32-6081-4a05-985e-3337e8854cd0",
   "metadata": {},
   "outputs": [
    {
     "data": {
      "image/png": "[encoded data removed]",
      "text/plain": [
       "<Figure size 432x288 with 1 Axes>"
      ]
     },
     "metadata": {},
     "output_type": "display_data"
    }
   ],
   "source": [
    "graph.Display()"
   ]
  },
  {
   "cell_type": "code",
   "execution_count": 92,
   "id": "03654a64-e903-4ae0-870a-64809202fa62",
   "metadata": {},
   "outputs": [
    {
     "name": "stdout",
     "output_type": "stream",
     "text": [
      "Minimum Spanning Tree: {'B', 'H', 'I', 'A', 'G', 'E', 'D', 'F', 'C'}\n"
     ]
    }
   ],
   "source": [
    "minimum_spanning_tree = graph.Prims_Algorithm()\n",
    "print(\"Minimum Spanning Tree:\", minimum_spanning_tree)"
   ]
  },
  {
   "cell_type": "markdown",
   "id": "377ad91a-b18d-4486-a535-6aca489bae2c",
   "metadata": {},
   "source": [
    "### Visualize each step of Prim's Algorithm for the graph"
   ]
  },
  {
   "cell_type": "code",
   "execution_count": 93,
   "id": "189a91aa-bdc4-4501-943c-d5c72fa1c2aa",
   "metadata": {},
   "outputs": [
    {
     "ename": "TypeError",
     "evalue": "Graph.add_edge() takes 3 positional arguments but 4 were given",
     "output_type": "error",
     "traceback": [
      "\u001b[1;31m---------------------------------------------------------------------------\u001b[0m",
      "\u001b[1;31mTypeError\u001b[0m                                 Traceback (most recent call last)",
      "Cell \u001b[1;32mIn[93], line 1\u001b[0m\n\u001b[1;32m----> 1\u001b[0m \u001b[43mgraph\u001b[49m\u001b[38;5;241;43m.\u001b[39;49m\u001b[43mDisplay_Prims_Algorithm\u001b[49m\u001b[43m(\u001b[49m\u001b[43m)\u001b[49m\n",
      "Cell \u001b[1;32mIn[79], line 93\u001b[0m, in \u001b[0;36mGraph.Display_Prims_Algorithm\u001b[1;34m(self)\u001b[0m\n\u001b[0;32m     91\u001b[0m \u001b[38;5;28;01mif\u001b[39;00m next_vertex \u001b[38;5;129;01mnot\u001b[39;00m \u001b[38;5;129;01min\u001b[39;00m MST:\n\u001b[0;32m     92\u001b[0m     MST\u001b[38;5;241m.\u001b[39madd(next_vertex)\n\u001b[1;32m---> 93\u001b[0m     \u001b[43mG\u001b[49m\u001b[38;5;241;43m.\u001b[39;49m\u001b[43madd_edge\u001b[49m\u001b[43m(\u001b[49m\u001b[43mcurrent_vertex\u001b[49m\u001b[43m,\u001b[49m\u001b[43m \u001b[49m\u001b[43mnext_vertex\u001b[49m\u001b[43m,\u001b[49m\u001b[43m \u001b[49m\u001b[43mweight\u001b[49m\u001b[43m)\u001b[49m\n\u001b[0;32m     94\u001b[0m     start_vertex \u001b[38;5;241m=\u001b[39m next_vertex\n\u001b[0;32m     95\u001b[0m     \u001b[38;5;28;01mbreak\u001b[39;00m\n",
      "\u001b[1;31mTypeError\u001b[0m: Graph.add_edge() takes 3 positional arguments but 4 were given"
     ]
    }
   ],
   "source": [
    "graph.Display_Prims_Algorithm()"
   ]
  },
  {
   "cell_type": "code",
   "execution_count": null,
   "id": "65286eeb-7660-44be-8596-7f34a04afccd",
   "metadata": {},
   "outputs": [],
   "source": []
  },
  {
   "cell_type": "code",
   "execution_count": null,
   "id": "1ecfa8d2-eef4-4382-b7fa-ecd47512f89e",
   "metadata": {},
   "outputs": [],
   "source": []
  }
 ],
 "metadata": {
  "kernelspec": {
   "display_name": "Python 3 (ipykernel)",
   "language": "python",
   "name": "python3"
  },
  "language_info": {
   "codemirror_mode": {
    "name": "ipython",
    "version": 3
   },
   "file_extension": ".py",
   "mimetype": "text/x-python",
   "name": "python",
   "nbconvert_exporter": "python",
   "pygments_lexer": "ipython3",
   "version": "3.10.6"
  }
 },
 "nbformat": 4,
 "nbformat_minor": 5
}
