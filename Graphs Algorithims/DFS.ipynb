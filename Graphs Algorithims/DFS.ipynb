{
 "cells": [
  {
   "cell_type": "code",
   "execution_count": null,
   "id": "6db59c4b",
   "metadata": {},
   "outputs": [],
   "source": [
    "\n",
    "def depth_first_search(start, goal, get_children):\n",
    "    open_list = [start]\n",
    "    closed_list = []\n",
    "\n",
    "    while open_list:\n",
    "        x = open_list.pop(0)\n",
    "\n",
    "        if X == goal :\n",
    "            return \"SUCCESS\"\n",
    "\n",
    "        else:\n",
    "            children = get_children(x)\n",
    "            closed_list.append(x)\n",
    "\n",
    "            for child in children:\n",
    "                if (child in open_list) or (child in closed_list):\n",
    "                    continue\n",
    "\n",
    "                open_list.insert(0, child)\n",
    "\n",
    "    return \"FAIL\"\n",
    "\n",
    "\n",
    "import copy\n",
    "\n",
    "\n",
    "#Generating four Neighours\n",
    "def four_Neighours(array,x,y):\n",
    "    list = []\n",
    "    if x - 1>=0:\n",
    "        tmp = copy.deepcopy(array)\n",
    "        tmp[x][y], tmp[x-1][y] = tmp[x-1][y], tmp[x][y]\n",
    "        list.append(tmp)\n",
    "    if x+1<3:\n",
    "        tmp = copy.deepcopy(array)\n",
    "        tmp[x][y],tmp[x+1][y] = tmp[x+1][y],tmp[x][y]\n",
    "        list.append(tmp)\n",
    "    if y+1 < 3:\n",
    "        tmp = copy.deepcopy(array)\n",
    "        tmp[x][y], tmp[x][y + 1] = tmp[x][y + 1], tmp[x][y]\n",
    "        list.append(tmp)\n",
    "\n",
    "\n",
    "    if y-1 >= 0:\n",
    "        tmp = copy.deepcopy(array)\n",
    "        tmp[x][y], tmp[x][y - 1] = tmp[x][y - 1], tmp[x][y]\n",
    "        list.append(tmp)\n",
    "    return list\n",
    "\n"
   ]
  }
 ],
 "metadata": {
  "kernelspec": {
   "display_name": "Python 3 (ipykernel)",
   "language": "python",
   "name": "python3"
  },
  "language_info": {
   "codemirror_mode": {
    "name": "ipython",
    "version": 3
   },
   "file_extension": ".py",
   "mimetype": "text/x-python",
   "name": "python",
   "nbconvert_exporter": "python",
   "pygments_lexer": "ipython3",
   "version": "3.10.9"
  }
 },
 "nbformat": 4,
 "nbformat_minor": 5
}
