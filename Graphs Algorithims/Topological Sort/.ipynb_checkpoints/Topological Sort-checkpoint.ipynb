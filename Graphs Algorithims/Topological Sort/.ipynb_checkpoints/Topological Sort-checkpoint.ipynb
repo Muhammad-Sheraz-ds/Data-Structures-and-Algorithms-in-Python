{
 "cells": [
  {
   "cell_type": "markdown",
   "id": "8ceb8e21-10d4-4480-b6b0-e6768cd53c20",
   "metadata": {},
   "source": [
    "<h1 align='center'>Topological Sorting</h1>"
   ]
  },
  {
   "cell_type": "code",
   "execution_count": 41,
   "id": "b46831c5-17d0-434e-9daf-adfd5594d26c",
   "metadata": {},
   "outputs": [],
   "source": [
    "class LinkedListNode:\n",
    "    def __init__(self, data):\n",
    "        self.data = data\n",
    "        self.next = None\n",
    "\n",
    "class LinkedList:\n",
    "    def __init__(self):\n",
    "        self.head = None\n",
    "\n",
    "    def append(self, data):\n",
    "        new_node = LinkedListNode(data)\n",
    "        if not self.head:\n",
    "            self.head = new_node\n",
    "        else:\n",
    "            current = self.head\n",
    "            while current.next:\n",
    "                current = current.next\n",
    "            current.next = new_node\n",
    "\n",
    "    def display(self):\n",
    "        G = nx.DiGraph()\n",
    "\n",
    "        current = self.head\n",
    "        while current and current.next:\n",
    "            G.add_edge(current.data, current.next.data)\n",
    "            current = current.next\n",
    "\n",
    "        pos = nx.spring_layout(G)\n",
    "        nx.draw(G, pos, with_labels=True, node_size=700, node_color='skyblue', font_size=10, font_color='black', font_weight='bold', arrowsize=20)\n",
    "\n",
    "        plt.show()"
   ]
  },
  {
   "cell_type": "code",
   "execution_count": 42,
   "id": "c6aa0053-c81a-4439-a1cc-d8574c18bd52",
   "metadata": {},
   "outputs": [],
   "source": [
    "import networkx as nx\n",
    "import matplotlib.pyplot as plt\n",
    "from collections import deque\n",
    "\n",
    "class Graph_Node:\n",
    "    def __init__(self, label=None, color=None, predecessor=None, distance=0):\n",
    "        self.label = label\n",
    "        self.color = color\n",
    "        self.predecessor = predecessor\n",
    "        self.distance = distance\n",
    "\n",
    "class Vertex:\n",
    "    def __init__(self, label=None):\n",
    "        self.label = label\n",
    "        self.vertices = []\n",
    "        self.color = None  \n",
    "\n",
    "class Graph:\n",
    "    def __init__(self):\n",
    "        self.vertices = []\n",
    "\n",
    "    def add_vertex(self, label=None):\n",
    "        new_vertex = Vertex(label)\n",
    "        self.vertices.append(new_vertex)\n",
    "        return new_vertex\n",
    "\n",
    "    def add_edge(self, vertex1, vertex2):\n",
    "        vertex1.vertices.append(vertex2)\n",
    "\n",
    "    \n",
    "    def topological_sort(self):\n",
    "        linked_list = LinkedList() \n",
    "        for vertex in self.vertices:\n",
    "            vertex.color = 'White'\n",
    "            \n",
    "        for vertex in self.vertices:\n",
    "            if vertex.color == 'White':\n",
    "                self.topological_sort_util(vertex, linked_list)\n",
    "    \n",
    "        return linked_list\n",
    "\n",
    "\n",
    "    def topological_sort_util(self, vertex, linked_list):\n",
    "        vertex.color = 'Gray'\n",
    "\n",
    "        for neighbor in vertex.vertices:\n",
    "            if neighbor.color == 'White':\n",
    "                self.topological_sort_util(neighbor, linked_list)\n",
    "\n",
    "        vertex.color = 'Black'\n",
    "        linked_list.append(vertex.label)\n",
    "\n",
    "    def display_graph(self):\n",
    "        G = nx.DiGraph()\n",
    "\n",
    "        for vertex in self.vertices:\n",
    "            G.add_node(vertex.label, color=vertex.color)\n",
    "\n",
    "            for neighbor in vertex.vertices:\n",
    "                G.add_edge(vertex.label, neighbor.label)\n",
    "\n",
    "        pos = nx.spring_layout(G)\n",
    "        colors = [data['color'] for node, data in G.nodes(data=True)]\n",
    "\n",
    "        nx.draw(G, pos, with_labels=True, node_color=colors, cmap=plt.cm.Blues, edge_color='black')\n",
    "        plt.show()\n",
    "\n"
   ]
  },
  {
   "cell_type": "markdown",
   "id": "7b783f03-ab8c-4c8b-b6f9-2fa7f6aee249",
   "metadata": {},
   "source": [
    "### Create a graph"
   ]
  },
  {
   "cell_type": "code",
   "execution_count": 43,
   "id": "7ddf4322-4f22-498b-aa84-d371e90c8b99",
   "metadata": {},
   "outputs": [],
   "source": [
    "graph = Graph()"
   ]
  },
  {
   "cell_type": "markdown",
   "id": "ea1b0e51-c89d-4497-821c-829ea88537a4",
   "metadata": {},
   "source": [
    "### Add vertices with labels"
   ]
  },
  {
   "cell_type": "code",
   "execution_count": 44,
   "id": "29e772e0-7f7f-4a56-8fe7-e0fc83778cf6",
   "metadata": {},
   "outputs": [],
   "source": [
    "v1 = graph.add_vertex(label='a')\n",
    "v2 = graph.add_vertex(label='b')\n",
    "v3 = graph.add_vertex(label='c')\n",
    "v4 = graph.add_vertex(label='d')\n",
    "v5 = graph.add_vertex(label='e')"
   ]
  },
  {
   "cell_type": "markdown",
   "id": "fe37eddc-1959-411a-8665-f27c0926c509",
   "metadata": {},
   "source": [
    "### Add edges for a directed acyclic graph (DAG)"
   ]
  },
  {
   "cell_type": "code",
   "execution_count": 45,
   "id": "8cb46e94-ce80-4b0a-a12a-ca444d7e84ff",
   "metadata": {},
   "outputs": [],
   "source": [
    "graph.add_edge(v1, v2)\n",
    "graph.add_edge(v1, v3)\n",
    "graph.add_edge(v2, v4)\n",
    "graph.add_edge(v3, v4)\n",
    "graph.add_edge(v4, v5)"
   ]
  },
  {
   "cell_type": "markdown",
   "id": "268681f7-1dd6-4d31-8d64-3f33920055ed",
   "metadata": {},
   "source": [
    "### Visualize the graph"
   ]
  },
  {
   "cell_type": "code",
   "execution_count": 46,
   "id": "e98ca1b4-cb2b-41f4-84e7-98a256137d0e",
   "metadata": {},
   "outputs": [
    {
     "data": {
      "image/png": "[encoded data removed]",
      "text/plain": [
       "<Figure size 432x288 with 1 Axes>"
      ]
     },
     "metadata": {},
     "output_type": "display_data"
    }
   ],
   "source": [
    "graph.display_graph()"
   ]
  },
  {
   "cell_type": "markdown",
   "id": "35f8d149-c242-4ea7-b420-e405bc9295a4",
   "metadata": {},
   "source": [
    "### Display topological order using linked list"
   ]
  },
  {
   "cell_type": "code",
   "execution_count": 47,
   "id": "23dd929c-8440-4078-bbcf-8f10566e6639",
   "metadata": {},
   "outputs": [
    {
     "name": "stdout",
     "output_type": "stream",
     "text": [
      "Topological Order:\n"
     ]
    },
    {
     "data": {
      "image/png": "[encoded data removed]",
      "text/plain": [
       "<Figure size 432x288 with 1 Axes>"
      ]
     },
     "metadata": {},
     "output_type": "display_data"
    }
   ],
   "source": [
    "topological_order_list = graph.topological_sort()\n",
    "print(\"Topological Order:\")\n",
    "topological_order_list.display()"
   ]
  },
  {
   "cell_type": "code",
   "execution_count": null,
   "id": "89d34efb-cdc8-4224-a710-f1f8764443de",
   "metadata": {},
   "outputs": [],
   "source": []
  }
 ],
 "metadata": {
  "kernelspec": {
   "display_name": "Python 3 (ipykernel)",
   "language": "python",
   "name": "python3"
  },
  "language_info": {
   "codemirror_mode": {
    "name": "ipython",
    "version": 3
   },
   "file_extension": ".py",
   "mimetype": "text/x-python",
   "name": "python",
   "nbconvert_exporter": "python",
   "pygments_lexer": "ipython3",
   "version": "3.10.6"
  }
 },
 "nbformat": 4,
 "nbformat_minor": 5
}
